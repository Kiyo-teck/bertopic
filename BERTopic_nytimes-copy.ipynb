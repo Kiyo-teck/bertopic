{
 "cells": [
  {
   "cell_type": "code",
   "execution_count": 1,
   "metadata": {},
   "outputs": [],
   "source": [
    "#0\n",
    "import numpy as np\n",
    "import pandas as pd\n",
    "import pickle\n",
    "import glob\n",
    "\n",
    "\n",
    "#with open(r\"Arti_dict_Price.dump\", mode='rb') as f:\n",
    "#    Arti_dict=pickle.load(f)"
   ]
  },
  {
   "cell_type": "code",
   "execution_count": 3,
   "metadata": {},
   "outputs": [
    {
     "name": "stdout",
     "output_type": "stream",
     "text": [
      "C:/Users/syuch/Downloads/Bertopic/CSV_file_NYT_2017-2021\\2017_1.csv\n",
      "C:/Users/syuch/Downloads/Bertopic/CSV_file_NYT_2017-2021\\2017_10.csv\n",
      "C:/Users/syuch/Downloads/Bertopic/CSV_file_NYT_2017-2021\\2017_11.csv\n",
      "C:/Users/syuch/Downloads/Bertopic/CSV_file_NYT_2017-2021\\2017_12.csv\n",
      "C:/Users/syuch/Downloads/Bertopic/CSV_file_NYT_2017-2021\\2017_2.csv\n",
      "C:/Users/syuch/Downloads/Bertopic/CSV_file_NYT_2017-2021\\2017_3.csv\n",
      "C:/Users/syuch/Downloads/Bertopic/CSV_file_NYT_2017-2021\\2017_4.csv\n",
      "C:/Users/syuch/Downloads/Bertopic/CSV_file_NYT_2017-2021\\2017_5.csv\n",
      "C:/Users/syuch/Downloads/Bertopic/CSV_file_NYT_2017-2021\\2017_6.csv\n",
      "C:/Users/syuch/Downloads/Bertopic/CSV_file_NYT_2017-2021\\2017_7.csv\n",
      "C:/Users/syuch/Downloads/Bertopic/CSV_file_NYT_2017-2021\\2017_8.csv\n",
      "C:/Users/syuch/Downloads/Bertopic/CSV_file_NYT_2017-2021\\2017_9.csv\n",
      "C:/Users/syuch/Downloads/Bertopic/CSV_file_NYT_2017-2021\\2018_1.csv\n",
      "C:/Users/syuch/Downloads/Bertopic/CSV_file_NYT_2017-2021\\2018_10.csv\n",
      "C:/Users/syuch/Downloads/Bertopic/CSV_file_NYT_2017-2021\\2018_11.csv\n",
      "C:/Users/syuch/Downloads/Bertopic/CSV_file_NYT_2017-2021\\2018_12.csv\n",
      "C:/Users/syuch/Downloads/Bertopic/CSV_file_NYT_2017-2021\\2018_2.csv\n",
      "C:/Users/syuch/Downloads/Bertopic/CSV_file_NYT_2017-2021\\2018_3.csv\n",
      "C:/Users/syuch/Downloads/Bertopic/CSV_file_NYT_2017-2021\\2018_4.csv\n",
      "C:/Users/syuch/Downloads/Bertopic/CSV_file_NYT_2017-2021\\2018_5.csv\n",
      "C:/Users/syuch/Downloads/Bertopic/CSV_file_NYT_2017-2021\\2018_6.csv\n",
      "C:/Users/syuch/Downloads/Bertopic/CSV_file_NYT_2017-2021\\2018_7.csv\n",
      "C:/Users/syuch/Downloads/Bertopic/CSV_file_NYT_2017-2021\\2018_8.csv\n",
      "C:/Users/syuch/Downloads/Bertopic/CSV_file_NYT_2017-2021\\2018_9.csv\n",
      "C:/Users/syuch/Downloads/Bertopic/CSV_file_NYT_2017-2021\\2019_1.csv\n",
      "C:/Users/syuch/Downloads/Bertopic/CSV_file_NYT_2017-2021\\2019_10.csv\n",
      "C:/Users/syuch/Downloads/Bertopic/CSV_file_NYT_2017-2021\\2019_11.csv\n",
      "C:/Users/syuch/Downloads/Bertopic/CSV_file_NYT_2017-2021\\2019_12.csv\n",
      "C:/Users/syuch/Downloads/Bertopic/CSV_file_NYT_2017-2021\\2019_2.csv\n",
      "C:/Users/syuch/Downloads/Bertopic/CSV_file_NYT_2017-2021\\2019_3.csv\n",
      "C:/Users/syuch/Downloads/Bertopic/CSV_file_NYT_2017-2021\\2019_4.csv\n",
      "C:/Users/syuch/Downloads/Bertopic/CSV_file_NYT_2017-2021\\2019_5.csv\n",
      "C:/Users/syuch/Downloads/Bertopic/CSV_file_NYT_2017-2021\\2019_6.csv\n",
      "C:/Users/syuch/Downloads/Bertopic/CSV_file_NYT_2017-2021\\2019_7.csv\n",
      "C:/Users/syuch/Downloads/Bertopic/CSV_file_NYT_2017-2021\\2019_8.csv\n",
      "C:/Users/syuch/Downloads/Bertopic/CSV_file_NYT_2017-2021\\2019_9.csv\n",
      "C:/Users/syuch/Downloads/Bertopic/CSV_file_NYT_2017-2021\\2020_1.csv\n",
      "C:/Users/syuch/Downloads/Bertopic/CSV_file_NYT_2017-2021\\2020_10.csv\n",
      "C:/Users/syuch/Downloads/Bertopic/CSV_file_NYT_2017-2021\\2020_11.csv\n",
      "C:/Users/syuch/Downloads/Bertopic/CSV_file_NYT_2017-2021\\2020_12.csv\n",
      "C:/Users/syuch/Downloads/Bertopic/CSV_file_NYT_2017-2021\\2020_2.csv\n",
      "C:/Users/syuch/Downloads/Bertopic/CSV_file_NYT_2017-2021\\2020_3.csv\n",
      "C:/Users/syuch/Downloads/Bertopic/CSV_file_NYT_2017-2021\\2020_4.csv\n",
      "C:/Users/syuch/Downloads/Bertopic/CSV_file_NYT_2017-2021\\2020_5.csv\n",
      "C:/Users/syuch/Downloads/Bertopic/CSV_file_NYT_2017-2021\\2020_6.csv\n",
      "C:/Users/syuch/Downloads/Bertopic/CSV_file_NYT_2017-2021\\2020_7.csv\n",
      "C:/Users/syuch/Downloads/Bertopic/CSV_file_NYT_2017-2021\\2020_8.csv\n",
      "C:/Users/syuch/Downloads/Bertopic/CSV_file_NYT_2017-2021\\2020_9.csv\n",
      "C:/Users/syuch/Downloads/Bertopic/CSV_file_NYT_2017-2021\\2021_1.csv\n",
      "C:/Users/syuch/Downloads/Bertopic/CSV_file_NYT_2017-2021\\2021_10.csv\n",
      "C:/Users/syuch/Downloads/Bertopic/CSV_file_NYT_2017-2021\\2021_11.csv\n",
      "C:/Users/syuch/Downloads/Bertopic/CSV_file_NYT_2017-2021\\2021_12.csv\n",
      "C:/Users/syuch/Downloads/Bertopic/CSV_file_NYT_2017-2021\\2021_2.csv\n",
      "C:/Users/syuch/Downloads/Bertopic/CSV_file_NYT_2017-2021\\2021_3.csv\n",
      "C:/Users/syuch/Downloads/Bertopic/CSV_file_NYT_2017-2021\\2021_4.csv\n",
      "C:/Users/syuch/Downloads/Bertopic/CSV_file_NYT_2017-2021\\2021_5.csv\n",
      "C:/Users/syuch/Downloads/Bertopic/CSV_file_NYT_2017-2021\\2021_6.csv\n",
      "C:/Users/syuch/Downloads/Bertopic/CSV_file_NYT_2017-2021\\2021_7.csv\n",
      "C:/Users/syuch/Downloads/Bertopic/CSV_file_NYT_2017-2021\\2021_8.csv\n",
      "C:/Users/syuch/Downloads/Bertopic/CSV_file_NYT_2017-2021\\2021_9.csv\n"
     ]
    }
   ],
   "source": [
    "# パスで指定したファイルの一覧をリスト形式で取得. （ここでは一階層下のtestファイル以下）\n",
    "csv_files = glob.glob('C:/Users/syuch/Downloads/Bertopic/CSV_file_NYT_2017-2021/*.csv')\n",
    "\n",
    "#読み込むファイルのリストを表示\n",
    "for a in csv_files:\n",
    "    print(a)\n",
    "\n",
    "#csvファイルの中身を追加していくリストを用意\n",
    "data_list = []\n",
    "\n",
    "#読み込むファイルのリストを走査\n",
    "for file in csv_files:\n",
    "    data_list.append(pd.read_csv(file))\n",
    "\n",
    "#リストを全て行方向に結合\n",
    "#axis=0:行方向に結合, sort\n",
    "df = pd.concat(data_list, axis=0, sort=True, ignore_index=True)\n",
    "\n",
    "df.to_csv(\"C:/Users/syuch/Downloads/Bertopic/CSV_file_NYT_2017-2021/total1.csv\",index=True)"
   ]
  },
  {
   "cell_type": "code",
   "execution_count": 4,
   "metadata": {},
   "outputs": [
    {
     "data": {
      "text/plain": [
       "(927780, 11)"
      ]
     },
     "execution_count": 4,
     "metadata": {},
     "output_type": "execute_result"
    }
   ],
   "source": [
    "df.shape"
   ]
  },
  {
   "cell_type": "code",
   "execution_count": 8,
   "metadata": {},
   "outputs": [
    {
     "ename": "MemoryError",
     "evalue": "",
     "output_type": "error",
     "traceback": [
      "\u001b[1;31m---------------------------------------------------------------------------\u001b[0m",
      "\u001b[1;31mMemoryError\u001b[0m                               Traceback (most recent call last)",
      "\u001b[1;32m~\\AppData\\Local\\Temp/ipykernel_13764/4222223559.py\u001b[0m in \u001b[0;36m<module>\u001b[1;34m\u001b[0m\n\u001b[0;32m      3\u001b[0m \u001b[1;32mfor\u001b[0m \u001b[0mi\u001b[0m \u001b[1;32min\u001b[0m \u001b[0mrange\u001b[0m\u001b[1;33m(\u001b[0m\u001b[1;36m0\u001b[0m\u001b[1;33m,\u001b[0m \u001b[0mlen\u001b[0m\u001b[1;33m(\u001b[0m\u001b[0mdf\u001b[0m\u001b[1;33m.\u001b[0m\u001b[0mabstract\u001b[0m\u001b[1;33m)\u001b[0m\u001b[1;33m)\u001b[0m\u001b[1;33m:\u001b[0m\u001b[1;33m\u001b[0m\u001b[1;33m\u001b[0m\u001b[0m\n\u001b[0;32m      4\u001b[0m     \u001b[1;32mif\u001b[0m \u001b[1;32mnot\u001b[0m \u001b[0mpd\u001b[0m\u001b[1;33m.\u001b[0m\u001b[0misna\u001b[0m\u001b[1;33m(\u001b[0m\u001b[0mdf\u001b[0m\u001b[1;33m.\u001b[0m\u001b[0mabstract\u001b[0m\u001b[1;33m[\u001b[0m\u001b[0mi\u001b[0m\u001b[1;33m]\u001b[0m\u001b[1;33m)\u001b[0m\u001b[1;33m:\u001b[0m\u001b[1;33m\u001b[0m\u001b[1;33m\u001b[0m\u001b[0m\n\u001b[1;32m----> 5\u001b[1;33m         \u001b[0mcount_array\u001b[0m\u001b[1;33m.\u001b[0m\u001b[0mappend\u001b[0m\u001b[1;33m(\u001b[0m\u001b[0mi\u001b[0m\u001b[1;33m)\u001b[0m\u001b[1;33m\u001b[0m\u001b[1;33m\u001b[0m\u001b[0m\n\u001b[0m\u001b[0;32m      6\u001b[0m \u001b[1;33m\u001b[0m\u001b[0m\n\u001b[0;32m      7\u001b[0m \u001b[0mdf\u001b[0m \u001b[1;33m=\u001b[0m \u001b[0mdf\u001b[0m\u001b[1;33m.\u001b[0m\u001b[0miloc\u001b[0m\u001b[1;33m[\u001b[0m\u001b[0mcount_array\u001b[0m\u001b[1;33m,\u001b[0m \u001b[1;33m:\u001b[0m\u001b[1;33m]\u001b[0m\u001b[1;33m\u001b[0m\u001b[1;33m\u001b[0m\u001b[0m\n",
      "\u001b[1;31mMemoryError\u001b[0m: "
     ]
    }
   ],
   "source": [
    "count_array = []\n",
    "\n",
    "for i in range(0, len(df.abstract)):\n",
    "    if not pd.isna(df.abstract[i]):\n",
    "        count_array.append(i)\n",
    "\n",
    "df = df.iloc[count_array, :]"
   ]
  },
  {
   "cell_type": "code",
   "execution_count": 5,
   "metadata": {},
   "outputs": [
    {
     "name": "stderr",
     "output_type": "stream",
     "text": [
      "[nltk_data] Downloading package stopwords to\n",
      "[nltk_data]     C:\\Users\\syuch\\AppData\\Roaming\\nltk_data...\n",
      "[nltk_data]   Package stopwords is already up-to-date!\n",
      "[nltk_data] Downloading package punkt to\n",
      "[nltk_data]     C:\\Users\\syuch\\AppData\\Roaming\\nltk_data...\n",
      "[nltk_data]   Package punkt is already up-to-date!\n"
     ]
    },
    {
     "ename": "KeyboardInterrupt",
     "evalue": "",
     "output_type": "error",
     "traceback": [
      "\u001b[1;31m---------------------------------------------------------------------------\u001b[0m",
      "\u001b[1;31mKeyboardInterrupt\u001b[0m                         Traceback (most recent call last)",
      "\u001b[1;32m~\\AppData\\Local\\Temp/ipykernel_13872/2545839724.py\u001b[0m in \u001b[0;36m<module>\u001b[1;34m\u001b[0m\n\u001b[0;32m     24\u001b[0m \u001b[1;33m\u001b[0m\u001b[0m\n\u001b[0;32m     25\u001b[0m \u001b[1;33m\u001b[0m\u001b[0m\n\u001b[1;32m---> 26\u001b[1;33m \u001b[0mdf\u001b[0m\u001b[1;33m[\u001b[0m\u001b[1;34m'clean_text'\u001b[0m\u001b[1;33m]\u001b[0m \u001b[1;33m=\u001b[0m \u001b[0mdf\u001b[0m\u001b[1;33m.\u001b[0m\u001b[0mabstract\u001b[0m\u001b[1;33m.\u001b[0m\u001b[0mapply\u001b[0m\u001b[1;33m(\u001b[0m\u001b[0mclean_text\u001b[0m\u001b[1;33m)\u001b[0m\u001b[1;33m\u001b[0m\u001b[1;33m\u001b[0m\u001b[0m\n\u001b[0m\u001b[0;32m     27\u001b[0m \u001b[0mdf\u001b[0m\u001b[1;33m.\u001b[0m\u001b[0mhead\u001b[0m\u001b[1;33m(\u001b[0m\u001b[1;33m)\u001b[0m\u001b[1;33m\u001b[0m\u001b[1;33m\u001b[0m\u001b[0m\n",
      "\u001b[1;32mc:\\Users\\syuch\\anaconda3\\lib\\site-packages\\pandas\\core\\series.py\u001b[0m in \u001b[0;36mapply\u001b[1;34m(self, func, convert_dtype, args, **kwargs)\u001b[0m\n\u001b[0;32m   4355\u001b[0m         \u001b[0mdtype\u001b[0m\u001b[1;33m:\u001b[0m \u001b[0mfloat64\u001b[0m\u001b[1;33m\u001b[0m\u001b[1;33m\u001b[0m\u001b[0m\n\u001b[0;32m   4356\u001b[0m         \"\"\"\n\u001b[1;32m-> 4357\u001b[1;33m         \u001b[1;32mreturn\u001b[0m \u001b[0mSeriesApply\u001b[0m\u001b[1;33m(\u001b[0m\u001b[0mself\u001b[0m\u001b[1;33m,\u001b[0m \u001b[0mfunc\u001b[0m\u001b[1;33m,\u001b[0m \u001b[0mconvert_dtype\u001b[0m\u001b[1;33m,\u001b[0m \u001b[0margs\u001b[0m\u001b[1;33m,\u001b[0m \u001b[0mkwargs\u001b[0m\u001b[1;33m)\u001b[0m\u001b[1;33m.\u001b[0m\u001b[0mapply\u001b[0m\u001b[1;33m(\u001b[0m\u001b[1;33m)\u001b[0m\u001b[1;33m\u001b[0m\u001b[1;33m\u001b[0m\u001b[0m\n\u001b[0m\u001b[0;32m   4358\u001b[0m \u001b[1;33m\u001b[0m\u001b[0m\n\u001b[0;32m   4359\u001b[0m     def _reduce(\n",
      "\u001b[1;32mc:\\Users\\syuch\\anaconda3\\lib\\site-packages\\pandas\\core\\apply.py\u001b[0m in \u001b[0;36mapply\u001b[1;34m(self)\u001b[0m\n\u001b[0;32m   1041\u001b[0m             \u001b[1;32mreturn\u001b[0m \u001b[0mself\u001b[0m\u001b[1;33m.\u001b[0m\u001b[0mapply_str\u001b[0m\u001b[1;33m(\u001b[0m\u001b[1;33m)\u001b[0m\u001b[1;33m\u001b[0m\u001b[1;33m\u001b[0m\u001b[0m\n\u001b[0;32m   1042\u001b[0m \u001b[1;33m\u001b[0m\u001b[0m\n\u001b[1;32m-> 1043\u001b[1;33m         \u001b[1;32mreturn\u001b[0m \u001b[0mself\u001b[0m\u001b[1;33m.\u001b[0m\u001b[0mapply_standard\u001b[0m\u001b[1;33m(\u001b[0m\u001b[1;33m)\u001b[0m\u001b[1;33m\u001b[0m\u001b[1;33m\u001b[0m\u001b[0m\n\u001b[0m\u001b[0;32m   1044\u001b[0m \u001b[1;33m\u001b[0m\u001b[0m\n\u001b[0;32m   1045\u001b[0m     \u001b[1;32mdef\u001b[0m \u001b[0magg\u001b[0m\u001b[1;33m(\u001b[0m\u001b[0mself\u001b[0m\u001b[1;33m)\u001b[0m\u001b[1;33m:\u001b[0m\u001b[1;33m\u001b[0m\u001b[1;33m\u001b[0m\u001b[0m\n",
      "\u001b[1;32mc:\\Users\\syuch\\anaconda3\\lib\\site-packages\\pandas\\core\\apply.py\u001b[0m in \u001b[0;36mapply_standard\u001b[1;34m(self)\u001b[0m\n\u001b[0;32m   1096\u001b[0m                 \u001b[1;31m# List[Union[Callable[..., Any], str]]]]]\"; expected\u001b[0m\u001b[1;33m\u001b[0m\u001b[1;33m\u001b[0m\u001b[0m\n\u001b[0;32m   1097\u001b[0m                 \u001b[1;31m# \"Callable[[Any], Any]\"\u001b[0m\u001b[1;33m\u001b[0m\u001b[1;33m\u001b[0m\u001b[0m\n\u001b[1;32m-> 1098\u001b[1;33m                 mapped = lib.map_infer(\n\u001b[0m\u001b[0;32m   1099\u001b[0m                     \u001b[0mvalues\u001b[0m\u001b[1;33m,\u001b[0m\u001b[1;33m\u001b[0m\u001b[1;33m\u001b[0m\u001b[0m\n\u001b[0;32m   1100\u001b[0m                     \u001b[0mf\u001b[0m\u001b[1;33m,\u001b[0m  \u001b[1;31m# type: ignore[arg-type]\u001b[0m\u001b[1;33m\u001b[0m\u001b[1;33m\u001b[0m\u001b[0m\n",
      "\u001b[1;32mc:\\Users\\syuch\\anaconda3\\lib\\site-packages\\pandas\\_libs\\lib.pyx\u001b[0m in \u001b[0;36mpandas._libs.lib.map_infer\u001b[1;34m()\u001b[0m\n",
      "\u001b[1;32m~\\AppData\\Local\\Temp/ipykernel_13872/2545839724.py\u001b[0m in \u001b[0;36mclean_text\u001b[1;34m(x)\u001b[0m\n\u001b[0;32m     17\u001b[0m   \u001b[0mtokens\u001b[0m \u001b[1;33m=\u001b[0m \u001b[0mword_tokenize\u001b[0m\u001b[1;33m(\u001b[0m\u001b[0mx\u001b[0m\u001b[1;33m)\u001b[0m\u001b[1;33m\u001b[0m\u001b[1;33m\u001b[0m\u001b[0m\n\u001b[0;32m     18\u001b[0m   \u001b[0mx\u001b[0m \u001b[1;33m=\u001b[0m \u001b[1;34m' '\u001b[0m\u001b[1;33m.\u001b[0m\u001b[0mjoin\u001b[0m\u001b[1;33m(\u001b[0m\u001b[1;33m[\u001b[0m\u001b[0mw\u001b[0m \u001b[1;32mfor\u001b[0m \u001b[0mw\u001b[0m \u001b[1;32min\u001b[0m \u001b[0mtokens\u001b[0m \u001b[1;32mif\u001b[0m \u001b[1;32mnot\u001b[0m \u001b[0mw\u001b[0m\u001b[1;33m.\u001b[0m\u001b[0mlower\u001b[0m\u001b[1;33m(\u001b[0m\u001b[1;33m)\u001b[0m \u001b[1;32min\u001b[0m \u001b[0mstop_words\u001b[0m\u001b[1;33m]\u001b[0m\u001b[1;33m)\u001b[0m\u001b[1;33m\u001b[0m\u001b[1;33m\u001b[0m\u001b[0m\n\u001b[1;32m---> 19\u001b[1;33m   \u001b[0mx\u001b[0m \u001b[1;33m=\u001b[0m \u001b[0mre\u001b[0m\u001b[1;33m.\u001b[0m\u001b[0msub\u001b[0m\u001b[1;33m(\u001b[0m\u001b[1;34mr'[%s]'\u001b[0m \u001b[1;33m%\u001b[0m \u001b[0mre\u001b[0m\u001b[1;33m.\u001b[0m\u001b[0mescape\u001b[0m\u001b[1;33m(\u001b[0m\u001b[1;34m'!\"#$%&\\()*+,-./:;<=>?@[\\\\]^_`{|}~“…”’'\u001b[0m\u001b[1;33m)\u001b[0m\u001b[1;33m,\u001b[0m \u001b[1;34m' '\u001b[0m\u001b[1;33m,\u001b[0m \u001b[0mx\u001b[0m\u001b[1;33m)\u001b[0m\u001b[1;33m\u001b[0m\u001b[1;33m\u001b[0m\u001b[0m\n\u001b[0m\u001b[0;32m     20\u001b[0m   \u001b[0mx\u001b[0m \u001b[1;33m=\u001b[0m \u001b[0mre\u001b[0m\u001b[1;33m.\u001b[0m\u001b[0msub\u001b[0m\u001b[1;33m(\u001b[0m\u001b[1;34mr'\\d+'\u001b[0m\u001b[1;33m,\u001b[0m \u001b[1;34m' '\u001b[0m\u001b[1;33m,\u001b[0m \u001b[0mx\u001b[0m\u001b[1;33m)\u001b[0m\u001b[1;33m\u001b[0m\u001b[1;33m\u001b[0m\u001b[0m\n\u001b[0;32m     21\u001b[0m   \u001b[0mx\u001b[0m \u001b[1;33m=\u001b[0m \u001b[0mre\u001b[0m\u001b[1;33m.\u001b[0m\u001b[0msub\u001b[0m\u001b[1;33m(\u001b[0m\u001b[1;34mr'\\n+'\u001b[0m\u001b[1;33m,\u001b[0m \u001b[1;34m' '\u001b[0m\u001b[1;33m,\u001b[0m \u001b[0mx\u001b[0m\u001b[1;33m)\u001b[0m\u001b[1;33m\u001b[0m\u001b[1;33m\u001b[0m\u001b[0m\n",
      "\u001b[1;31mKeyboardInterrupt\u001b[0m: "
     ]
    }
   ],
   "source": [
    "import re\n",
    "import nltk\n",
    "from nltk.corpus import stopwords\n",
    "from nltk.tokenize import word_tokenize\n",
    "\n",
    "nltk.download('stopwords')\n",
    "nltk.download('punkt')\n",
    "\n",
    "stop_words = stopwords.words('english')\n",
    "\n",
    "def clean_text(x):\n",
    "  x = str(x)\n",
    "  x = x.lower()\n",
    "  x = re.sub(r'#[A-Za-z0-9]*', ' ', x)\n",
    "  x = re.sub(r'https*://.*', ' ', x)\n",
    "  x = re.sub(r'@[A-Za-z0-9]+', ' ', x)\n",
    "  tokens = word_tokenize(x)\n",
    "  x = ' '.join([w for w in tokens if not w.lower() in stop_words])\n",
    "  x = re.sub(r'[%s]' % re.escape('!\"#$%&\\()*+,-./:;<=>?@[\\\\]^_`{|}~“…”’'), ' ', x)\n",
    "  x = re.sub(r'\\d+', ' ', x)\n",
    "  x = re.sub(r'\\n+', ' ', x)\n",
    "  x = re.sub(r'\\s{2,}', ' ', x)\n",
    "  return x\n",
    "\n",
    "\n",
    "df['clean_text'] = df.abstract.apply(clean_text)\n",
    "df.head()"
   ]
  },
  {
   "cell_type": "code",
   "execution_count": 12,
   "metadata": {},
   "outputs": [
    {
     "name": "stdout",
     "output_type": "stream",
     "text": [
      "['i', 'me', 'my', 'myself', 'we', 'our', 'ours', 'ourselves', 'you', \"you're\", \"you've\", \"you'll\", \"you'd\", 'your', 'yours', 'yourself', 'yourselves', 'he', 'him', 'his', 'himself', 'she', \"she's\", 'her', 'hers', 'herself', 'it', \"it's\", 'its', 'itself', 'they', 'them', 'their', 'theirs', 'themselves', 'what', 'which', 'who', 'whom', 'this', 'that', \"that'll\", 'these', 'those', 'am', 'is', 'are', 'was', 'were', 'be', 'been', 'being', 'have', 'has', 'had', 'having', 'do', 'does', 'did', 'doing', 'a', 'an', 'the', 'and', 'but', 'if', 'or', 'because', 'as', 'until', 'while', 'of', 'at', 'by', 'for', 'with', 'about', 'against', 'between', 'into', 'through', 'during', 'before', 'after', 'above', 'below', 'to', 'from', 'up', 'down', 'in', 'out', 'on', 'off', 'over', 'under', 'again', 'further', 'then', 'once', 'here', 'there', 'when', 'where', 'why', 'how', 'all', 'any', 'both', 'each', 'few', 'more', 'most', 'other', 'some', 'such', 'no', 'nor', 'not', 'only', 'own', 'same', 'so', 'than', 'too', 'very', 's', 't', 'can', 'will', 'just', 'don', \"don't\", 'should', \"should've\", 'now', 'd', 'll', 'm', 'o', 're', 've', 'y', 'ain', 'aren', \"aren't\", 'couldn', \"couldn't\", 'didn', \"didn't\", 'doesn', \"doesn't\", 'hadn', \"hadn't\", 'hasn', \"hasn't\", 'haven', \"haven't\", 'isn', \"isn't\", 'ma', 'mightn', \"mightn't\", 'mustn', \"mustn't\", 'needn', \"needn't\", 'shan', \"shan't\", 'shouldn', \"shouldn't\", 'wasn', \"wasn't\", 'weren', \"weren't\", 'won', \"won't\", 'wouldn', \"wouldn't\"]\n"
     ]
    },
    {
     "name": "stderr",
     "output_type": "stream",
     "text": [
      "[nltk_data] Downloading package stopwords to\n",
      "[nltk_data]     C:\\Users\\syuch\\AppData\\Roaming\\nltk_data...\n",
      "[nltk_data]   Package stopwords is already up-to-date!\n"
     ]
    }
   ],
   "source": [
    "from nltk.corpus import stopwords\n",
    "import nltk\n",
    "\n",
    "nltk.download('stopwords')\n",
    "stop_words = stopwords.words('english')\n",
    "print(stop_words)\n"
   ]
  },
  {
   "cell_type": "code",
   "execution_count": 3,
   "metadata": {},
   "outputs": [],
   "source": [
    "from bertopic import BERTopic"
   ]
  },
  {
   "cell_type": "code",
   "execution_count": 4,
   "metadata": {},
   "outputs": [
    {
     "ename": "NameError",
     "evalue": "name 'df' is not defined",
     "output_type": "error",
     "traceback": [
      "\u001b[1;31m---------------------------------------------------------------------------\u001b[0m",
      "\u001b[1;31mNameError\u001b[0m                                 Traceback (most recent call last)",
      "\u001b[1;32m~\\AppData\\Local\\Temp/ipykernel_13764/155649132.py\u001b[0m in \u001b[0;36m<module>\u001b[1;34m\u001b[0m\n\u001b[1;32m----> 1\u001b[1;33m \u001b[0mabstract\u001b[0m \u001b[1;33m=\u001b[0m \u001b[0mdf\u001b[0m\u001b[1;33m.\u001b[0m\u001b[0mclean_text\u001b[0m\u001b[1;33m.\u001b[0m\u001b[0mto_list\u001b[0m\u001b[1;33m(\u001b[0m\u001b[1;33m)\u001b[0m\u001b[1;33m\u001b[0m\u001b[1;33m\u001b[0m\u001b[0m\n\u001b[0m\u001b[0;32m      2\u001b[0m \u001b[0mtimestamp\u001b[0m \u001b[1;33m=\u001b[0m \u001b[0mdf\u001b[0m\u001b[1;33m.\u001b[0m\u001b[0mabstract\u001b[0m\u001b[1;33m.\u001b[0m\u001b[0mto_list\u001b[0m\u001b[1;33m(\u001b[0m\u001b[1;33m)\u001b[0m\u001b[1;33m\u001b[0m\u001b[1;33m\u001b[0m\u001b[0m\n",
      "\u001b[1;31mNameError\u001b[0m: name 'df' is not defined"
     ]
    }
   ],
   "source": [
    "abstract = df.clean_text.to_list()\n",
    "timestamp = df.abstract.to_list()"
   ]
  },
  {
   "cell_type": "code",
   "execution_count": null,
   "metadata": {},
   "outputs": [],
   "source": []
  },
  {
   "cell_type": "code",
   "execution_count": 2,
   "metadata": {},
   "outputs": [
    {
     "ename": "NameError",
     "evalue": "name 'BERTopic' is not defined",
     "output_type": "error",
     "traceback": [
      "\u001b[1;31m---------------------------------------------------------------------------\u001b[0m",
      "\u001b[1;31mNameError\u001b[0m                                 Traceback (most recent call last)",
      "\u001b[1;32m~\\AppData\\Local\\Temp/ipykernel_13764/2469122576.py\u001b[0m in \u001b[0;36m<module>\u001b[1;34m\u001b[0m\n\u001b[1;32m----> 1\u001b[1;33m \u001b[0mtopic_model\u001b[0m \u001b[1;33m=\u001b[0m \u001b[0mBERTopic\u001b[0m\u001b[1;33m(\u001b[0m\u001b[0mlanguage\u001b[0m\u001b[1;33m=\u001b[0m\u001b[1;34m\"english\"\u001b[0m\u001b[1;33m)\u001b[0m\u001b[1;33m\u001b[0m\u001b[1;33m\u001b[0m\u001b[0m\n\u001b[0m\u001b[0;32m      2\u001b[0m \u001b[0mtopics\u001b[0m\u001b[1;33m,\u001b[0m \u001b[0mprobs\u001b[0m \u001b[1;33m=\u001b[0m \u001b[0mtopic_model\u001b[0m\u001b[1;33m.\u001b[0m\u001b[0mfit_transform\u001b[0m\u001b[1;33m(\u001b[0m\u001b[0mabstract\u001b[0m\u001b[1;33m)\u001b[0m\u001b[1;33m\u001b[0m\u001b[1;33m\u001b[0m\u001b[0m\n",
      "\u001b[1;31mNameError\u001b[0m: name 'BERTopic' is not defined"
     ]
    }
   ],
   "source": [
    "topic_model = BERTopic(language=\"english\")\n",
    "topics, probs = topic_model.fit_transform(abstract)"
   ]
  },
  {
   "cell_type": "code",
   "execution_count": 1,
   "metadata": {},
   "outputs": [
    {
     "ename": "NameError",
     "evalue": "name 'topic_model' is not defined",
     "output_type": "error",
     "traceback": [
      "\u001b[1;31m---------------------------------------------------------------------------\u001b[0m",
      "\u001b[1;31mNameError\u001b[0m                                 Traceback (most recent call last)",
      "\u001b[1;32m~\\AppData\\Local\\Temp/ipykernel_13764/2117596196.py\u001b[0m in \u001b[0;36m<module>\u001b[1;34m\u001b[0m\n\u001b[1;32m----> 1\u001b[1;33m \u001b[0mtopic_model\u001b[0m\u001b[1;33m.\u001b[0m\u001b[0mget_topic_info\u001b[0m\u001b[1;33m(\u001b[0m\u001b[1;33m)\u001b[0m\u001b[1;33m\u001b[0m\u001b[1;33m\u001b[0m\u001b[0m\n\u001b[0m",
      "\u001b[1;31mNameError\u001b[0m: name 'topic_model' is not defined"
     ]
    }
   ],
   "source": [
    "topic_model.get_topic_info()"
   ]
  },
  {
   "cell_type": "code",
   "execution_count": 4,
   "metadata": {},
   "outputs": [],
   "source": [
    "# ストップワード辞書のダウンロード\n",
    "import os\n",
    "import urllib.request\n",
    "\n",
    "def download_stopwords(path):\n",
    "    url = 'http://svn.sourceforge.jp/svnroot/slothlib/CSharp/Version1/SlothLib/NLP/Filter/StopWord/word/Japanese.txt'\n",
    "    if os.path.exists(path):\n",
    "        print('File already exists.')\n",
    "    else:\n",
    "        print('Downloading...')\n",
    "        # Download the file from `url` and save it locally under `file_name`:\n",
    "        urllib.request.urlretrieve(url, path)"
   ]
  },
  {
   "cell_type": "code",
   "execution_count": 5,
   "metadata": {},
   "outputs": [
    {
     "name": "stdout",
     "output_type": "stream",
     "text": [
      "File already exists.\n"
     ]
    }
   ],
   "source": [
    "# ストップワードの作成\n",
    "def create_stopwords(file_path):\n",
    "    stop_words = []\n",
    "    for w in open(path, \"r\", encoding=\"utf-8\"):\n",
    "        w = w.replace('\\n','')\n",
    "        if len(w) > 0:\n",
    "          stop_words.append(w)\n",
    "    return stop_words    \n",
    "\n",
    "path = \"stop_words.txt\"\n",
    "download_stopwords(path)\n",
    "stop_words = create_stopwords(path)"
   ]
  },
  {
   "cell_type": "code",
   "execution_count": 14,
   "metadata": {},
   "outputs": [
    {
     "ename": "RuntimeError",
     "evalue": "",
     "output_type": "error",
     "traceback": [
      "\u001b[1;31m---------------------------------------------------------------------------\u001b[0m",
      "\u001b[1;31mRuntimeError\u001b[0m                              Traceback (most recent call last)",
      "\u001b[1;32m~\\AppData\\Local\\Temp/ipykernel_35716/571991738.py\u001b[0m in \u001b[0;36m<module>\u001b[1;34m\u001b[0m\n\u001b[0;32m      4\u001b[0m \u001b[1;32mimport\u001b[0m \u001b[0mMeCab\u001b[0m\u001b[1;33m\u001b[0m\u001b[1;33m\u001b[0m\u001b[0m\n\u001b[0;32m      5\u001b[0m \u001b[1;33m\u001b[0m\u001b[0m\n\u001b[1;32m----> 6\u001b[1;33m \u001b[0mwakati\u001b[0m \u001b[1;33m=\u001b[0m \u001b[0mMeCab\u001b[0m\u001b[1;33m.\u001b[0m\u001b[0mTagger\u001b[0m\u001b[1;33m(\u001b[0m\u001b[1;34m\"-Owakati\"\u001b[0m\u001b[1;33m)\u001b[0m\u001b[1;33m\u001b[0m\u001b[1;33m\u001b[0m\u001b[0m\n\u001b[0m\u001b[0;32m      7\u001b[0m \u001b[1;33m\u001b[0m\u001b[0m\n\u001b[0;32m      8\u001b[0m \u001b[1;32mdef\u001b[0m \u001b[0mclean_text\u001b[0m\u001b[1;33m(\u001b[0m\u001b[0mx\u001b[0m\u001b[1;33m)\u001b[0m\u001b[1;33m:\u001b[0m\u001b[1;33m\u001b[0m\u001b[1;33m\u001b[0m\u001b[0m\n",
      "\u001b[1;32mc:\\Users\\syuch\\anaconda3\\lib\\site-packages\\MeCab.py\u001b[0m in \u001b[0;36m__init__\u001b[1;34m(self, *args)\u001b[0m\n\u001b[0;32m    353\u001b[0m \u001b[1;33m\u001b[0m\u001b[0m\n\u001b[0;32m    354\u001b[0m     \u001b[1;32mdef\u001b[0m \u001b[0m__init__\u001b[0m\u001b[1;33m(\u001b[0m\u001b[0mself\u001b[0m\u001b[1;33m,\u001b[0m \u001b[1;33m*\u001b[0m\u001b[0margs\u001b[0m\u001b[1;33m)\u001b[0m\u001b[1;33m:\u001b[0m\u001b[1;33m\u001b[0m\u001b[1;33m\u001b[0m\u001b[0m\n\u001b[1;32m--> 355\u001b[1;33m         \u001b[0m_MeCab\u001b[0m\u001b[1;33m.\u001b[0m\u001b[0mTagger_swiginit\u001b[0m\u001b[1;33m(\u001b[0m\u001b[0mself\u001b[0m\u001b[1;33m,\u001b[0m \u001b[0m_MeCab\u001b[0m\u001b[1;33m.\u001b[0m\u001b[0mnew_Tagger\u001b[0m\u001b[1;33m(\u001b[0m\u001b[1;33m*\u001b[0m\u001b[0margs\u001b[0m\u001b[1;33m)\u001b[0m\u001b[1;33m)\u001b[0m\u001b[1;33m\u001b[0m\u001b[1;33m\u001b[0m\u001b[0m\n\u001b[0m\u001b[0;32m    356\u001b[0m \u001b[1;33m\u001b[0m\u001b[0m\n\u001b[0;32m    357\u001b[0m     \u001b[1;32mdef\u001b[0m \u001b[0mparseToString\u001b[0m\u001b[1;33m(\u001b[0m\u001b[0mself\u001b[0m\u001b[1;33m,\u001b[0m \u001b[0mstr\u001b[0m\u001b[1;33m,\u001b[0m \u001b[0mlength\u001b[0m\u001b[1;33m=\u001b[0m\u001b[1;36m0\u001b[0m\u001b[1;33m)\u001b[0m\u001b[1;33m:\u001b[0m\u001b[1;33m\u001b[0m\u001b[1;33m\u001b[0m\u001b[0m\n",
      "\u001b[1;31mRuntimeError\u001b[0m: "
     ]
    }
   ],
   "source": [
    "import re\n",
    "import demoji\n",
    "import neologdn\n",
    "import MeCab\n",
    "\n",
    "wakati = MeCab.Tagger(\"-Owakati\")\n",
    "\n",
    "def clean_text(x):\n",
    "  x = str(x)\n",
    "  x = neologdn.normalize(x)\n",
    "  x = x.lower()\n",
    "  x = re.sub(r'#[A-Za-z0-9]*', '', x)\n",
    "  x = re.sub(r'https*://.*', '', x)\n",
    "  x = re.sub(r'@[A-Za-z0-9]+', '', x)\n",
    "  x = demoji.replace(string=x, repl='')\n",
    "  #x = re.sub(r'[%s]' % re.escape('!\"#$%&\\()*+,-./:;<=>?@[\\\\]^_`{|}~“…”’'), ' ', x)\n",
    "  x = re.sub(r'[%s]' % re.escape('!\"#$%&\\'\\\\\\\\()*+,-./:;<=>?@[\\\\]^_`{|}~「」〔〕“”〈〉『』【】＆＊・（）＄＃＠。、？！｀＋￥％◇'), '', x)\n",
    "  x = re.sub(\"[\\uFF01-\\uFF0F\\uFF1A-\\uFF20\\uFF3B-\\uFF40\\uFF5B-\\uFF65\\u3000-\\u303F]\", '', x)\n",
    "  x = re.sub(r'\\d+', '', x)\n",
    "  x = re.sub(r'\\n+', '', x)\n",
    "  x = re.sub(r'\\s{2,}', '', x)\n",
    "  x = re.sub(\"sep\", '', x)\n",
    "  x = re.sub(\"cls\", '', x)\n",
    "  x = wakati.parse(x)\n",
    "  \n",
    "  return x\n",
    "\n",
    "\n",
    "df['clean_text'] = df.Body.apply(clean_text)\n",
    "df.head()"
   ]
  },
  {
   "cell_type": "code",
   "execution_count": 16,
   "metadata": {},
   "outputs": [
    {
     "data": {
      "text/plain": [
       "(12102, 4)"
      ]
     },
     "execution_count": 16,
     "metadata": {},
     "output_type": "execute_result"
    }
   ],
   "source": [
    "df.shape"
   ]
  },
  {
   "cell_type": "code",
   "execution_count": 17,
   "metadata": {},
   "outputs": [
    {
     "ename": "AttributeError",
     "evalue": "'DataFrame' object has no attribute 'clean_text'",
     "output_type": "error",
     "traceback": [
      "\u001b[1;31m---------------------------------------------------------------------------\u001b[0m",
      "\u001b[1;31mAttributeError\u001b[0m                            Traceback (most recent call last)",
      "\u001b[1;32m~\\AppData\\Local\\Temp/ipykernel_35716/1258001393.py\u001b[0m in \u001b[0;36m<module>\u001b[1;34m\u001b[0m\n\u001b[1;32m----> 1\u001b[1;33m \u001b[0mbodys\u001b[0m \u001b[1;33m=\u001b[0m \u001b[0mdf\u001b[0m\u001b[1;33m.\u001b[0m\u001b[0mclean_text\u001b[0m\u001b[1;33m.\u001b[0m\u001b[0mto_list\u001b[0m\u001b[1;33m(\u001b[0m\u001b[1;33m)\u001b[0m\u001b[1;33m\u001b[0m\u001b[1;33m\u001b[0m\u001b[0m\n\u001b[0m\u001b[0;32m      2\u001b[0m \u001b[0mtimestamp\u001b[0m \u001b[1;33m=\u001b[0m \u001b[0mdf\u001b[0m\u001b[1;33m.\u001b[0m\u001b[0mTime\u001b[0m\u001b[1;33m.\u001b[0m\u001b[0mto_list\u001b[0m\u001b[1;33m(\u001b[0m\u001b[1;33m)\u001b[0m\u001b[1;33m\u001b[0m\u001b[1;33m\u001b[0m\u001b[0m\n",
      "\u001b[1;32mc:\\Users\\syuch\\anaconda3\\lib\\site-packages\\pandas\\core\\generic.py\u001b[0m in \u001b[0;36m__getattr__\u001b[1;34m(self, name)\u001b[0m\n\u001b[0;32m   5485\u001b[0m         ):\n\u001b[0;32m   5486\u001b[0m             \u001b[1;32mreturn\u001b[0m \u001b[0mself\u001b[0m\u001b[1;33m[\u001b[0m\u001b[0mname\u001b[0m\u001b[1;33m]\u001b[0m\u001b[1;33m\u001b[0m\u001b[1;33m\u001b[0m\u001b[0m\n\u001b[1;32m-> 5487\u001b[1;33m         \u001b[1;32mreturn\u001b[0m \u001b[0mobject\u001b[0m\u001b[1;33m.\u001b[0m\u001b[0m__getattribute__\u001b[0m\u001b[1;33m(\u001b[0m\u001b[0mself\u001b[0m\u001b[1;33m,\u001b[0m \u001b[0mname\u001b[0m\u001b[1;33m)\u001b[0m\u001b[1;33m\u001b[0m\u001b[1;33m\u001b[0m\u001b[0m\n\u001b[0m\u001b[0;32m   5488\u001b[0m \u001b[1;33m\u001b[0m\u001b[0m\n\u001b[0;32m   5489\u001b[0m     \u001b[1;32mdef\u001b[0m \u001b[0m__setattr__\u001b[0m\u001b[1;33m(\u001b[0m\u001b[0mself\u001b[0m\u001b[1;33m,\u001b[0m \u001b[0mname\u001b[0m\u001b[1;33m:\u001b[0m \u001b[0mstr\u001b[0m\u001b[1;33m,\u001b[0m \u001b[0mvalue\u001b[0m\u001b[1;33m)\u001b[0m \u001b[1;33m->\u001b[0m \u001b[1;32mNone\u001b[0m\u001b[1;33m:\u001b[0m\u001b[1;33m\u001b[0m\u001b[1;33m\u001b[0m\u001b[0m\n",
      "\u001b[1;31mAttributeError\u001b[0m: 'DataFrame' object has no attribute 'clean_text'"
     ]
    }
   ],
   "source": [
    "bodys = df.clean_text.to_list()\n",
    "timestamp = df.Time.to_list()"
   ]
  },
  {
   "cell_type": "code",
   "execution_count": 19,
   "metadata": {},
   "outputs": [],
   "source": [
    "from transformers import BertJapaneseTokenizer, BertModel\n",
    "import torch\n",
    "\n",
    "\n",
    "class SentenceBertJapanese:\n",
    "    def __init__(self, model_name_or_path, device=None):\n",
    "        self.tokenizer = BertJapaneseTokenizer.from_pretrained(model_name_or_path)\n",
    "        self.model = BertModel.from_pretrained(model_name_or_path)\n",
    "        self.model.eval()\n",
    "\n",
    "        if device is None:\n",
    "            device = \"cuda\" if torch.cuda.is_available() else \"cpu\"\n",
    "        self.device = torch.device(device)\n",
    "        self.model.to(device)\n",
    "\n",
    "    def _mean_pooling(self, model_output, attention_mask):\n",
    "        token_embeddings = model_output[0] #First element of model_output contains all token embeddings\n",
    "        input_mask_expanded = attention_mask.unsqueeze(-1).expand(token_embeddings.size()).float()\n",
    "        return torch.sum(token_embeddings * input_mask_expanded, 1) / torch.clamp(input_mask_expanded.sum(1), min=1e-9)\n",
    "\n",
    "    @torch.no_grad()\n",
    "    def encode(self, sentences, batch_size=8):\n",
    "        all_embeddings = []\n",
    "        iterator = range(0, len(sentences), batch_size)\n",
    "        for batch_idx in iterator:\n",
    "            batch = sentences[batch_idx:batch_idx + batch_size]\n",
    "\n",
    "            encoded_input = self.tokenizer.batch_encode_plus(batch, padding=\"longest\", \n",
    "                                           truncation=True, return_tensors=\"pt\").to(self.device)\n",
    "            model_output = self.model(**encoded_input)\n",
    "            sentence_embeddings = self._mean_pooling(model_output, encoded_input[\"attention_mask\"]).to('cpu')\n",
    "\n",
    "            all_embeddings.extend(sentence_embeddings)\n",
    "\n",
    "        # return torch.stack(all_embeddings).numpy()\n",
    "        return torch.stack(all_embeddings)"
   ]
  },
  {
   "cell_type": "code",
   "execution_count": 20,
   "metadata": {},
   "outputs": [],
   "source": [
    "model = SentenceBertJapanese(\"sonoisa/sentence-bert-base-ja-mean-tokens-v2\")"
   ]
  },
  {
   "cell_type": "code",
   "execution_count": 28,
   "metadata": {},
   "outputs": [],
   "source": [
    "from bertopic import BERTopic\n",
    "topic_model = BERTopic(embedding_model=model)\n",
    "topics, probs = topic_model.fit_transform(bodys)"
   ]
  },
  {
   "cell_type": "code",
   "execution_count": 23,
   "metadata": {},
   "outputs": [],
   "source": [
    "f = open('topics.txt', 'wb')\n",
    "pickle.dump(topics, f)"
   ]
  },
  {
   "cell_type": "code",
   "execution_count": 13,
   "metadata": {},
   "outputs": [],
   "source": [
    "f = open(\"./topics.txt\",\"rb\")\n",
    "topics = pickle.load(f)\n",
    "\n",
    "f = open(\"./probs.txt\",\"rb\")\n",
    "probs = pickle.load(f)"
   ]
  },
  {
   "cell_type": "code",
   "execution_count": 14,
   "metadata": {},
   "outputs": [],
   "source": [
    "f = open('probs.txt', 'wb')\n",
    "pickle.dump(probs, f)"
   ]
  },
  {
   "cell_type": "code",
   "execution_count": 37,
   "metadata": {},
   "outputs": [
    {
     "name": "stderr",
     "output_type": "stream",
     "text": [
      "c:\\Users\\Naoto Soma\\Documents\\NLP\\env\\lib\\site-packages\\scipy\\sparse\\_index.py:146: SparseEfficiencyWarning:\n",
      "\n",
      "Changing the sparsity structure of a csr_matrix is expensive. lil_matrix is more efficient.\n",
      "\n"
     ]
    }
   ],
   "source": [
    "f = open('topic_model.txt', 'wb')\n",
    "pickle.dump(topic_model, f)"
   ]
  },
  {
   "cell_type": "code",
   "execution_count": 38,
   "metadata": {},
   "outputs": [],
   "source": [
    "f = open(\"./topic_model.txt\",\"rb\")\n",
    "topic_model = pickle.load(f)"
   ]
  },
  {
   "cell_type": "code",
   "execution_count": 39,
   "metadata": {},
   "outputs": [
    {
     "data": {
      "text/html": [
       "<div>\n",
       "<style scoped>\n",
       "    .dataframe tbody tr th:only-of-type {\n",
       "        vertical-align: middle;\n",
       "    }\n",
       "\n",
       "    .dataframe tbody tr th {\n",
       "        vertical-align: top;\n",
       "    }\n",
       "\n",
       "    .dataframe thead th {\n",
       "        text-align: right;\n",
       "    }\n",
       "</style>\n",
       "<table border=\"1\" class=\"dataframe\">\n",
       "  <thead>\n",
       "    <tr style=\"text-align: right;\">\n",
       "      <th></th>\n",
       "      <th>Topic</th>\n",
       "      <th>Count</th>\n",
       "      <th>Name</th>\n",
       "    </tr>\n",
       "  </thead>\n",
       "  <tbody>\n",
       "    <tr>\n",
       "      <th>0</th>\n",
       "      <td>-1</td>\n",
       "      <td>5881</td>\n",
       "      <td>-1_する_いる_から_など</td>\n",
       "    </tr>\n",
       "    <tr>\n",
       "      <th>1</th>\n",
       "      <td>0</td>\n",
       "      <td>757</td>\n",
       "      <td>0_本文_著作_ませ_表示</td>\n",
       "    </tr>\n",
       "    <tr>\n",
       "      <th>2</th>\n",
       "      <td>1</td>\n",
       "      <td>362</td>\n",
       "      <td>1_原発_電力_電気_東電</td>\n",
       "    </tr>\n",
       "    <tr>\n",
       "      <th>3</th>\n",
       "      <td>2</td>\n",
       "      <td>357</td>\n",
       "      <td>2_申請_価格_運賃_から</td>\n",
       "    </tr>\n",
       "    <tr>\n",
       "      <th>4</th>\n",
       "      <td>3</td>\n",
       "      <td>254</td>\n",
       "      <td>3_石油_リットル_センター_ガソリン</td>\n",
       "    </tr>\n",
       "    <tr>\n",
       "      <th>...</th>\n",
       "      <td>...</td>\n",
       "      <td>...</td>\n",
       "      <td>...</td>\n",
       "    </tr>\n",
       "    <tr>\n",
       "      <th>108</th>\n",
       "      <td>107</td>\n",
       "      <td>11</td>\n",
       "      <td>107_ユーロ_欧州_カ国_eu</td>\n",
       "    </tr>\n",
       "    <tr>\n",
       "      <th>109</th>\n",
       "      <td>108</td>\n",
       "      <td>11</td>\n",
       "      <td>108_化粧_mbo_工事_レックス</td>\n",
       "    </tr>\n",
       "    <tr>\n",
       "      <th>110</th>\n",
       "      <td>109</td>\n",
       "      <td>11</td>\n",
       "      <td>109_ガス_電力_東邦_料金</td>\n",
       "    </tr>\n",
       "    <tr>\n",
       "      <th>111</th>\n",
       "      <td>110</td>\n",
       "      <td>11</td>\n",
       "      <td>110_物価_原油_トルコ_上昇</td>\n",
       "    </tr>\n",
       "    <tr>\n",
       "      <th>112</th>\n",
       "      <td>111</td>\n",
       "      <td>10</td>\n",
       "      <td>111_弁当_pb_イオン_ガールズバー</td>\n",
       "    </tr>\n",
       "  </tbody>\n",
       "</table>\n",
       "<p>113 rows × 3 columns</p>\n",
       "</div>"
      ],
      "text/plain": [
       "     Topic  Count                  Name\n",
       "0       -1   5881        -1_する_いる_から_など\n",
       "1        0    757         0_本文_著作_ませ_表示\n",
       "2        1    362         1_原発_電力_電気_東電\n",
       "3        2    357         2_申請_価格_運賃_から\n",
       "4        3    254   3_石油_リットル_センター_ガソリン\n",
       "..     ...    ...                   ...\n",
       "108    107     11      107_ユーロ_欧州_カ国_eu\n",
       "109    108     11    108_化粧_mbo_工事_レックス\n",
       "110    109     11       109_ガス_電力_東邦_料金\n",
       "111    110     11      110_物価_原油_トルコ_上昇\n",
       "112    111     10  111_弁当_pb_イオン_ガールズバー\n",
       "\n",
       "[113 rows x 3 columns]"
      ]
     },
     "execution_count": 39,
     "metadata": {},
     "output_type": "execute_result"
    }
   ],
   "source": [
    "topic_model.get_topic_info()"
   ]
  },
  {
   "cell_type": "code",
   "execution_count": 30,
   "metadata": {},
   "outputs": [
    {
     "data": {
      "application/vnd.plotly.v1+json": {
       "config": {
        "plotlyServerURL": "https://plot.ly"
       },
       "data": [
        {
         "marker": {
          "color": "#D55E00"
         },
         "orientation": "h",
         "type": "bar",
         "x": [
          0.32338858543058446,
          0.3350989391439983,
          0.36554960427274175,
          0.4050424446088229,
          0.41139757961161183
         ],
         "xaxis": "x",
         "y": [
          "交渉  ",
          "表示  ",
          "ませ  ",
          "著作  ",
          "本文  "
         ],
         "yaxis": "y"
        },
        {
         "marker": {
          "color": "#0072B2"
         },
         "orientation": "h",
         "type": "bar",
         "x": [
          0.017987272783676407,
          0.01846144472904103,
          0.019154348581200305,
          0.024241263863989358,
          0.025335732159676858
         ],
         "xaxis": "x2",
         "y": [
          "値上げ  ",
          "東電  ",
          "電気  ",
          "電力  ",
          "原発  "
         ],
         "yaxis": "y2"
        },
        {
         "marker": {
          "color": "#CC79A7"
         },
         "orientation": "h",
         "type": "bar",
         "x": [
          0.008098815370680483,
          0.008145137988422044,
          0.008880887248279467,
          0.00913799777103208,
          0.009369538133288087
         ],
         "xaxis": "x3",
         "y": [
          "値下げ  ",
          "から  ",
          "運賃  ",
          "価格  ",
          "申請  "
         ],
         "yaxis": "y3"
        },
        {
         "marker": {
          "color": "#E69F00"
         },
         "orientation": "h",
         "type": "bar",
         "x": [
          0.03944578274594784,
          0.042499387895107155,
          0.04384554280875785,
          0.04643421643115556,
          0.06272508392165613
         ],
         "xaxis": "x4",
         "y": [
          "小売  ",
          "ガソリン  ",
          "センター  ",
          "リットル  ",
          "石油  "
         ],
         "yaxis": "y4"
        },
        {
         "marker": {
          "color": "#56B4E9"
         },
         "orientation": "h",
         "type": "bar",
         "x": [
          0.016933579878968357,
          0.016974216913918004,
          0.021673835630630252,
          0.023631258417148863,
          0.02379714667279219
         ],
         "xaxis": "x5",
         "y": [
          "金融  ",
          "インフレ  ",
          "目標  ",
          "政策  ",
          "日銀  "
         ],
         "yaxis": "y5"
        },
        {
         "marker": {
          "color": "#009E73"
         },
         "orientation": "h",
         "type": "bar",
         "x": [
          0.008943871152025093,
          0.010733910432322023,
          0.010771120698293927,
          0.011089750803561576,
          0.013538516245560364
         ],
         "xaxis": "x6",
         "y": [
          "値段  ",
          "ます  ",
          "ない  ",
          "です  ",
          "さん  "
         ],
         "yaxis": "y6"
        },
        {
         "marker": {
          "color": "#F0E442"
         },
         "orientation": "h",
         "type": "bar",
         "x": [
          0.011079715525821642,
          0.011371954884018924,
          0.013028342623031564,
          0.013090455812495244,
          0.014760526422500355
         ],
         "xaxis": "x7",
         "y": [
          "食糧  ",
          "米国  ",
          "中国  ",
          "日本  ",
          "世界  "
         ],
         "yaxis": "y7"
        },
        {
         "marker": {
          "color": "#D55E00"
         },
         "orientation": "h",
         "type": "bar",
         "x": [
          0.015870522649548077,
          0.016297545374041912,
          0.018237697329300726,
          0.02377157899205858,
          0.03521771119185208
         ],
         "xaxis": "x8",
         "y": [
          "原油  ",
          "価格  ",
          "元売り  ",
          "ガソリン  ",
          "石油  "
         ],
         "yaxis": "y8"
        }
       ],
       "layout": {
        "annotations": [
         {
          "font": {
           "size": 16
          },
          "showarrow": false,
          "text": "Topic 0",
          "x": 0.0875,
          "xanchor": "center",
          "xref": "paper",
          "y": 1,
          "yanchor": "bottom",
          "yref": "paper"
         },
         {
          "font": {
           "size": 16
          },
          "showarrow": false,
          "text": "Topic 1",
          "x": 0.36250000000000004,
          "xanchor": "center",
          "xref": "paper",
          "y": 1,
          "yanchor": "bottom",
          "yref": "paper"
         },
         {
          "font": {
           "size": 16
          },
          "showarrow": false,
          "text": "Topic 2",
          "x": 0.6375000000000001,
          "xanchor": "center",
          "xref": "paper",
          "y": 1,
          "yanchor": "bottom",
          "yref": "paper"
         },
         {
          "font": {
           "size": 16
          },
          "showarrow": false,
          "text": "Topic 3",
          "x": 0.9125,
          "xanchor": "center",
          "xref": "paper",
          "y": 1,
          "yanchor": "bottom",
          "yref": "paper"
         },
         {
          "font": {
           "size": 16
          },
          "showarrow": false,
          "text": "Topic 4",
          "x": 0.0875,
          "xanchor": "center",
          "xref": "paper",
          "y": 0.4,
          "yanchor": "bottom",
          "yref": "paper"
         },
         {
          "font": {
           "size": 16
          },
          "showarrow": false,
          "text": "Topic 5",
          "x": 0.36250000000000004,
          "xanchor": "center",
          "xref": "paper",
          "y": 0.4,
          "yanchor": "bottom",
          "yref": "paper"
         },
         {
          "font": {
           "size": 16
          },
          "showarrow": false,
          "text": "Topic 6",
          "x": 0.6375000000000001,
          "xanchor": "center",
          "xref": "paper",
          "y": 0.4,
          "yanchor": "bottom",
          "yref": "paper"
         },
         {
          "font": {
           "size": 16
          },
          "showarrow": false,
          "text": "Topic 7",
          "x": 0.9125,
          "xanchor": "center",
          "xref": "paper",
          "y": 0.4,
          "yanchor": "bottom",
          "yref": "paper"
         }
        ],
        "height": 500,
        "hoverlabel": {
         "bgcolor": "white",
         "font": {
          "family": "Rockwell",
          "size": 16
         }
        },
        "showlegend": false,
        "template": {
         "data": {
          "bar": [
           {
            "error_x": {
             "color": "#2a3f5f"
            },
            "error_y": {
             "color": "#2a3f5f"
            },
            "marker": {
             "line": {
              "color": "white",
              "width": 0.5
             },
             "pattern": {
              "fillmode": "overlay",
              "size": 10,
              "solidity": 0.2
             }
            },
            "type": "bar"
           }
          ],
          "barpolar": [
           {
            "marker": {
             "line": {
              "color": "white",
              "width": 0.5
             },
             "pattern": {
              "fillmode": "overlay",
              "size": 10,
              "solidity": 0.2
             }
            },
            "type": "barpolar"
           }
          ],
          "carpet": [
           {
            "aaxis": {
             "endlinecolor": "#2a3f5f",
             "gridcolor": "#C8D4E3",
             "linecolor": "#C8D4E3",
             "minorgridcolor": "#C8D4E3",
             "startlinecolor": "#2a3f5f"
            },
            "baxis": {
             "endlinecolor": "#2a3f5f",
             "gridcolor": "#C8D4E3",
             "linecolor": "#C8D4E3",
             "minorgridcolor": "#C8D4E3",
             "startlinecolor": "#2a3f5f"
            },
            "type": "carpet"
           }
          ],
          "choropleth": [
           {
            "colorbar": {
             "outlinewidth": 0,
             "ticks": ""
            },
            "type": "choropleth"
           }
          ],
          "contour": [
           {
            "colorbar": {
             "outlinewidth": 0,
             "ticks": ""
            },
            "colorscale": [
             [
              0,
              "#0d0887"
             ],
             [
              0.1111111111111111,
              "#46039f"
             ],
             [
              0.2222222222222222,
              "#7201a8"
             ],
             [
              0.3333333333333333,
              "#9c179e"
             ],
             [
              0.4444444444444444,
              "#bd3786"
             ],
             [
              0.5555555555555556,
              "#d8576b"
             ],
             [
              0.6666666666666666,
              "#ed7953"
             ],
             [
              0.7777777777777778,
              "#fb9f3a"
             ],
             [
              0.8888888888888888,
              "#fdca26"
             ],
             [
              1,
              "#f0f921"
             ]
            ],
            "type": "contour"
           }
          ],
          "contourcarpet": [
           {
            "colorbar": {
             "outlinewidth": 0,
             "ticks": ""
            },
            "type": "contourcarpet"
           }
          ],
          "heatmap": [
           {
            "colorbar": {
             "outlinewidth": 0,
             "ticks": ""
            },
            "colorscale": [
             [
              0,
              "#0d0887"
             ],
             [
              0.1111111111111111,
              "#46039f"
             ],
             [
              0.2222222222222222,
              "#7201a8"
             ],
             [
              0.3333333333333333,
              "#9c179e"
             ],
             [
              0.4444444444444444,
              "#bd3786"
             ],
             [
              0.5555555555555556,
              "#d8576b"
             ],
             [
              0.6666666666666666,
              "#ed7953"
             ],
             [
              0.7777777777777778,
              "#fb9f3a"
             ],
             [
              0.8888888888888888,
              "#fdca26"
             ],
             [
              1,
              "#f0f921"
             ]
            ],
            "type": "heatmap"
           }
          ],
          "heatmapgl": [
           {
            "colorbar": {
             "outlinewidth": 0,
             "ticks": ""
            },
            "colorscale": [
             [
              0,
              "#0d0887"
             ],
             [
              0.1111111111111111,
              "#46039f"
             ],
             [
              0.2222222222222222,
              "#7201a8"
             ],
             [
              0.3333333333333333,
              "#9c179e"
             ],
             [
              0.4444444444444444,
              "#bd3786"
             ],
             [
              0.5555555555555556,
              "#d8576b"
             ],
             [
              0.6666666666666666,
              "#ed7953"
             ],
             [
              0.7777777777777778,
              "#fb9f3a"
             ],
             [
              0.8888888888888888,
              "#fdca26"
             ],
             [
              1,
              "#f0f921"
             ]
            ],
            "type": "heatmapgl"
           }
          ],
          "histogram": [
           {
            "marker": {
             "pattern": {
              "fillmode": "overlay",
              "size": 10,
              "solidity": 0.2
             }
            },
            "type": "histogram"
           }
          ],
          "histogram2d": [
           {
            "colorbar": {
             "outlinewidth": 0,
             "ticks": ""
            },
            "colorscale": [
             [
              0,
              "#0d0887"
             ],
             [
              0.1111111111111111,
              "#46039f"
             ],
             [
              0.2222222222222222,
              "#7201a8"
             ],
             [
              0.3333333333333333,
              "#9c179e"
             ],
             [
              0.4444444444444444,
              "#bd3786"
             ],
             [
              0.5555555555555556,
              "#d8576b"
             ],
             [
              0.6666666666666666,
              "#ed7953"
             ],
             [
              0.7777777777777778,
              "#fb9f3a"
             ],
             [
              0.8888888888888888,
              "#fdca26"
             ],
             [
              1,
              "#f0f921"
             ]
            ],
            "type": "histogram2d"
           }
          ],
          "histogram2dcontour": [
           {
            "colorbar": {
             "outlinewidth": 0,
             "ticks": ""
            },
            "colorscale": [
             [
              0,
              "#0d0887"
             ],
             [
              0.1111111111111111,
              "#46039f"
             ],
             [
              0.2222222222222222,
              "#7201a8"
             ],
             [
              0.3333333333333333,
              "#9c179e"
             ],
             [
              0.4444444444444444,
              "#bd3786"
             ],
             [
              0.5555555555555556,
              "#d8576b"
             ],
             [
              0.6666666666666666,
              "#ed7953"
             ],
             [
              0.7777777777777778,
              "#fb9f3a"
             ],
             [
              0.8888888888888888,
              "#fdca26"
             ],
             [
              1,
              "#f0f921"
             ]
            ],
            "type": "histogram2dcontour"
           }
          ],
          "mesh3d": [
           {
            "colorbar": {
             "outlinewidth": 0,
             "ticks": ""
            },
            "type": "mesh3d"
           }
          ],
          "parcoords": [
           {
            "line": {
             "colorbar": {
              "outlinewidth": 0,
              "ticks": ""
             }
            },
            "type": "parcoords"
           }
          ],
          "pie": [
           {
            "automargin": true,
            "type": "pie"
           }
          ],
          "scatter": [
           {
            "fillpattern": {
             "fillmode": "overlay",
             "size": 10,
             "solidity": 0.2
            },
            "type": "scatter"
           }
          ],
          "scatter3d": [
           {
            "line": {
             "colorbar": {
              "outlinewidth": 0,
              "ticks": ""
             }
            },
            "marker": {
             "colorbar": {
              "outlinewidth": 0,
              "ticks": ""
             }
            },
            "type": "scatter3d"
           }
          ],
          "scattercarpet": [
           {
            "marker": {
             "colorbar": {
              "outlinewidth": 0,
              "ticks": ""
             }
            },
            "type": "scattercarpet"
           }
          ],
          "scattergeo": [
           {
            "marker": {
             "colorbar": {
              "outlinewidth": 0,
              "ticks": ""
             }
            },
            "type": "scattergeo"
           }
          ],
          "scattergl": [
           {
            "marker": {
             "colorbar": {
              "outlinewidth": 0,
              "ticks": ""
             }
            },
            "type": "scattergl"
           }
          ],
          "scattermapbox": [
           {
            "marker": {
             "colorbar": {
              "outlinewidth": 0,
              "ticks": ""
             }
            },
            "type": "scattermapbox"
           }
          ],
          "scatterpolar": [
           {
            "marker": {
             "colorbar": {
              "outlinewidth": 0,
              "ticks": ""
             }
            },
            "type": "scatterpolar"
           }
          ],
          "scatterpolargl": [
           {
            "marker": {
             "colorbar": {
              "outlinewidth": 0,
              "ticks": ""
             }
            },
            "type": "scatterpolargl"
           }
          ],
          "scatterternary": [
           {
            "marker": {
             "colorbar": {
              "outlinewidth": 0,
              "ticks": ""
             }
            },
            "type": "scatterternary"
           }
          ],
          "surface": [
           {
            "colorbar": {
             "outlinewidth": 0,
             "ticks": ""
            },
            "colorscale": [
             [
              0,
              "#0d0887"
             ],
             [
              0.1111111111111111,
              "#46039f"
             ],
             [
              0.2222222222222222,
              "#7201a8"
             ],
             [
              0.3333333333333333,
              "#9c179e"
             ],
             [
              0.4444444444444444,
              "#bd3786"
             ],
             [
              0.5555555555555556,
              "#d8576b"
             ],
             [
              0.6666666666666666,
              "#ed7953"
             ],
             [
              0.7777777777777778,
              "#fb9f3a"
             ],
             [
              0.8888888888888888,
              "#fdca26"
             ],
             [
              1,
              "#f0f921"
             ]
            ],
            "type": "surface"
           }
          ],
          "table": [
           {
            "cells": {
             "fill": {
              "color": "#EBF0F8"
             },
             "line": {
              "color": "white"
             }
            },
            "header": {
             "fill": {
              "color": "#C8D4E3"
             },
             "line": {
              "color": "white"
             }
            },
            "type": "table"
           }
          ]
         },
         "layout": {
          "annotationdefaults": {
           "arrowcolor": "#2a3f5f",
           "arrowhead": 0,
           "arrowwidth": 1
          },
          "autotypenumbers": "strict",
          "coloraxis": {
           "colorbar": {
            "outlinewidth": 0,
            "ticks": ""
           }
          },
          "colorscale": {
           "diverging": [
            [
             0,
             "#8e0152"
            ],
            [
             0.1,
             "#c51b7d"
            ],
            [
             0.2,
             "#de77ae"
            ],
            [
             0.3,
             "#f1b6da"
            ],
            [
             0.4,
             "#fde0ef"
            ],
            [
             0.5,
             "#f7f7f7"
            ],
            [
             0.6,
             "#e6f5d0"
            ],
            [
             0.7,
             "#b8e186"
            ],
            [
             0.8,
             "#7fbc41"
            ],
            [
             0.9,
             "#4d9221"
            ],
            [
             1,
             "#276419"
            ]
           ],
           "sequential": [
            [
             0,
             "#0d0887"
            ],
            [
             0.1111111111111111,
             "#46039f"
            ],
            [
             0.2222222222222222,
             "#7201a8"
            ],
            [
             0.3333333333333333,
             "#9c179e"
            ],
            [
             0.4444444444444444,
             "#bd3786"
            ],
            [
             0.5555555555555556,
             "#d8576b"
            ],
            [
             0.6666666666666666,
             "#ed7953"
            ],
            [
             0.7777777777777778,
             "#fb9f3a"
            ],
            [
             0.8888888888888888,
             "#fdca26"
            ],
            [
             1,
             "#f0f921"
            ]
           ],
           "sequentialminus": [
            [
             0,
             "#0d0887"
            ],
            [
             0.1111111111111111,
             "#46039f"
            ],
            [
             0.2222222222222222,
             "#7201a8"
            ],
            [
             0.3333333333333333,
             "#9c179e"
            ],
            [
             0.4444444444444444,
             "#bd3786"
            ],
            [
             0.5555555555555556,
             "#d8576b"
            ],
            [
             0.6666666666666666,
             "#ed7953"
            ],
            [
             0.7777777777777778,
             "#fb9f3a"
            ],
            [
             0.8888888888888888,
             "#fdca26"
            ],
            [
             1,
             "#f0f921"
            ]
           ]
          },
          "colorway": [
           "#636efa",
           "#EF553B",
           "#00cc96",
           "#ab63fa",
           "#FFA15A",
           "#19d3f3",
           "#FF6692",
           "#B6E880",
           "#FF97FF",
           "#FECB52"
          ],
          "font": {
           "color": "#2a3f5f"
          },
          "geo": {
           "bgcolor": "white",
           "lakecolor": "white",
           "landcolor": "white",
           "showlakes": true,
           "showland": true,
           "subunitcolor": "#C8D4E3"
          },
          "hoverlabel": {
           "align": "left"
          },
          "hovermode": "closest",
          "mapbox": {
           "style": "light"
          },
          "paper_bgcolor": "white",
          "plot_bgcolor": "white",
          "polar": {
           "angularaxis": {
            "gridcolor": "#EBF0F8",
            "linecolor": "#EBF0F8",
            "ticks": ""
           },
           "bgcolor": "white",
           "radialaxis": {
            "gridcolor": "#EBF0F8",
            "linecolor": "#EBF0F8",
            "ticks": ""
           }
          },
          "scene": {
           "xaxis": {
            "backgroundcolor": "white",
            "gridcolor": "#DFE8F3",
            "gridwidth": 2,
            "linecolor": "#EBF0F8",
            "showbackground": true,
            "ticks": "",
            "zerolinecolor": "#EBF0F8"
           },
           "yaxis": {
            "backgroundcolor": "white",
            "gridcolor": "#DFE8F3",
            "gridwidth": 2,
            "linecolor": "#EBF0F8",
            "showbackground": true,
            "ticks": "",
            "zerolinecolor": "#EBF0F8"
           },
           "zaxis": {
            "backgroundcolor": "white",
            "gridcolor": "#DFE8F3",
            "gridwidth": 2,
            "linecolor": "#EBF0F8",
            "showbackground": true,
            "ticks": "",
            "zerolinecolor": "#EBF0F8"
           }
          },
          "shapedefaults": {
           "line": {
            "color": "#2a3f5f"
           }
          },
          "ternary": {
           "aaxis": {
            "gridcolor": "#DFE8F3",
            "linecolor": "#A2B1C6",
            "ticks": ""
           },
           "baxis": {
            "gridcolor": "#DFE8F3",
            "linecolor": "#A2B1C6",
            "ticks": ""
           },
           "bgcolor": "white",
           "caxis": {
            "gridcolor": "#DFE8F3",
            "linecolor": "#A2B1C6",
            "ticks": ""
           }
          },
          "title": {
           "x": 0.05
          },
          "xaxis": {
           "automargin": true,
           "gridcolor": "#EBF0F8",
           "linecolor": "#EBF0F8",
           "ticks": "",
           "title": {
            "standoff": 15
           },
           "zerolinecolor": "#EBF0F8",
           "zerolinewidth": 2
          },
          "yaxis": {
           "automargin": true,
           "gridcolor": "#EBF0F8",
           "linecolor": "#EBF0F8",
           "ticks": "",
           "title": {
            "standoff": 15
           },
           "zerolinecolor": "#EBF0F8",
           "zerolinewidth": 2
          }
         }
        },
        "title": {
         "font": {
          "color": "Black",
          "size": 22
         },
         "text": "<b>Topic Word Scores",
         "x": 0.5,
         "xanchor": "center",
         "yanchor": "top"
        },
        "width": 1000,
        "xaxis": {
         "anchor": "y",
         "domain": [
          0,
          0.175
         ],
         "showgrid": true
        },
        "xaxis2": {
         "anchor": "y2",
         "domain": [
          0.275,
          0.45
         ],
         "showgrid": true
        },
        "xaxis3": {
         "anchor": "y3",
         "domain": [
          0.55,
          0.7250000000000001
         ],
         "showgrid": true
        },
        "xaxis4": {
         "anchor": "y4",
         "domain": [
          0.825,
          1
         ],
         "showgrid": true
        },
        "xaxis5": {
         "anchor": "y5",
         "domain": [
          0,
          0.175
         ],
         "showgrid": true
        },
        "xaxis6": {
         "anchor": "y6",
         "domain": [
          0.275,
          0.45
         ],
         "showgrid": true
        },
        "xaxis7": {
         "anchor": "y7",
         "domain": [
          0.55,
          0.7250000000000001
         ],
         "showgrid": true
        },
        "xaxis8": {
         "anchor": "y8",
         "domain": [
          0.825,
          1
         ],
         "showgrid": true
        },
        "yaxis": {
         "anchor": "x",
         "domain": [
          0.6000000000000001,
          1
         ],
         "showgrid": true
        },
        "yaxis2": {
         "anchor": "x2",
         "domain": [
          0.6000000000000001,
          1
         ],
         "showgrid": true
        },
        "yaxis3": {
         "anchor": "x3",
         "domain": [
          0.6000000000000001,
          1
         ],
         "showgrid": true
        },
        "yaxis4": {
         "anchor": "x4",
         "domain": [
          0.6000000000000001,
          1
         ],
         "showgrid": true
        },
        "yaxis5": {
         "anchor": "x5",
         "domain": [
          0,
          0.4
         ],
         "showgrid": true
        },
        "yaxis6": {
         "anchor": "x6",
         "domain": [
          0,
          0.4
         ],
         "showgrid": true
        },
        "yaxis7": {
         "anchor": "x7",
         "domain": [
          0,
          0.4
         ],
         "showgrid": true
        },
        "yaxis8": {
         "anchor": "x8",
         "domain": [
          0,
          0.4
         ],
         "showgrid": true
        }
       }
      }
     },
     "metadata": {},
     "output_type": "display_data"
    }
   ],
   "source": [
    "topic_model.visualize_barchart()"
   ]
  },
  {
   "cell_type": "code",
   "execution_count": 33,
   "metadata": {},
   "outputs": [
    {
     "data": {
      "text/plain": [
       "[Timestamp('1994-01-01 00:00:00'),\n",
       " Timestamp('1994-01-03 00:00:00'),\n",
       " Timestamp('1994-01-04 00:00:00'),\n",
       " Timestamp('1994-01-05 00:00:00'),\n",
       " Timestamp('1994-01-06 00:00:00'),\n",
       " Timestamp('1994-01-06 00:00:00'),\n",
       " Timestamp('1994-01-07 00:00:00'),\n",
       " Timestamp('1994-01-07 00:00:00'),\n",
       " Timestamp('1994-01-08 00:00:00'),\n",
       " Timestamp('1994-01-08 00:00:00'),\n",
       " Timestamp('1994-01-09 00:00:00'),\n",
       " Timestamp('1994-01-10 00:00:00'),\n",
       " Timestamp('1994-01-11 00:00:00'),\n",
       " Timestamp('1994-01-11 00:00:00'),\n",
       " Timestamp('1994-01-12 00:00:00'),\n",
       " Timestamp('1994-01-12 00:00:00'),\n",
       " Timestamp('1994-01-12 00:00:00'),\n",
       " Timestamp('1994-01-13 00:00:00'),\n",
       " Timestamp('1994-01-13 00:00:00'),\n",
       " Timestamp('1994-01-13 00:00:00'),\n",
       " Timestamp('1994-01-14 00:00:00'),\n",
       " Timestamp('1994-01-14 00:00:00'),\n",
       " Timestamp('1994-01-14 00:00:00'),\n",
       " Timestamp('1994-01-15 00:00:00'),\n",
       " Timestamp('1994-01-15 00:00:00'),\n",
       " Timestamp('1994-01-15 00:00:00'),\n",
       " Timestamp('1994-01-16 00:00:00'),\n",
       " Timestamp('1994-01-17 00:00:00'),\n",
       " Timestamp('1994-01-18 00:00:00'),\n",
       " Timestamp('1994-01-18 00:00:00'),\n",
       " Timestamp('1994-01-18 00:00:00'),\n",
       " Timestamp('1994-01-18 00:00:00'),\n",
       " Timestamp('1994-01-19 00:00:00'),\n",
       " Timestamp('1994-01-19 00:00:00'),\n",
       " Timestamp('1994-01-22 00:00:00'),\n",
       " Timestamp('1994-01-22 00:00:00'),\n",
       " Timestamp('1994-01-22 00:00:00'),\n",
       " Timestamp('1994-01-22 00:00:00'),\n",
       " Timestamp('1994-01-23 00:00:00'),\n",
       " Timestamp('1994-01-24 00:00:00'),\n",
       " Timestamp('1994-01-25 00:00:00'),\n",
       " Timestamp('1994-01-25 00:00:00'),\n",
       " Timestamp('1994-01-25 00:00:00'),\n",
       " Timestamp('1994-01-27 00:00:00'),\n",
       " Timestamp('1994-01-27 00:00:00'),\n",
       " Timestamp('1994-01-27 00:00:00'),\n",
       " Timestamp('1994-01-27 00:00:00'),\n",
       " Timestamp('1994-01-28 00:00:00'),\n",
       " Timestamp('1994-01-28 00:00:00'),\n",
       " Timestamp('1994-01-29 00:00:00'),\n",
       " Timestamp('1994-01-31 00:00:00'),\n",
       " Timestamp('1994-02-01 00:00:00'),\n",
       " Timestamp('1994-02-02 00:00:00'),\n",
       " Timestamp('1994-02-02 00:00:00'),\n",
       " Timestamp('1994-02-02 00:00:00'),\n",
       " Timestamp('1994-02-02 00:00:00'),\n",
       " Timestamp('1994-02-02 00:00:00'),\n",
       " Timestamp('1994-02-02 00:00:00'),\n",
       " Timestamp('1994-02-03 00:00:00'),\n",
       " Timestamp('1994-02-04 00:00:00'),\n",
       " Timestamp('1994-02-04 00:00:00'),\n",
       " Timestamp('1994-02-05 00:00:00'),\n",
       " Timestamp('1994-02-05 00:00:00'),\n",
       " Timestamp('1994-02-06 00:00:00'),\n",
       " Timestamp('1994-02-07 00:00:00'),\n",
       " Timestamp('1994-02-08 00:00:00'),\n",
       " Timestamp('1994-02-09 00:00:00'),\n",
       " Timestamp('1994-02-09 00:00:00'),\n",
       " Timestamp('1994-02-10 00:00:00'),\n",
       " Timestamp('1994-02-11 00:00:00'),\n",
       " Timestamp('1994-02-15 00:00:00'),\n",
       " Timestamp('1994-02-15 00:00:00'),\n",
       " Timestamp('1994-02-16 00:00:00'),\n",
       " Timestamp('1994-02-16 00:00:00'),\n",
       " Timestamp('1994-02-16 00:00:00'),\n",
       " Timestamp('1994-02-16 00:00:00'),\n",
       " Timestamp('1994-02-17 00:00:00'),\n",
       " Timestamp('1994-02-19 00:00:00'),\n",
       " Timestamp('1994-02-19 00:00:00'),\n",
       " Timestamp('1994-02-19 00:00:00'),\n",
       " Timestamp('1994-02-19 00:00:00'),\n",
       " Timestamp('1994-02-20 00:00:00'),\n",
       " Timestamp('1994-02-22 00:00:00'),\n",
       " Timestamp('1994-02-25 00:00:00'),\n",
       " Timestamp('1994-02-25 00:00:00'),\n",
       " Timestamp('1994-02-25 00:00:00'),\n",
       " Timestamp('1994-02-25 00:00:00'),\n",
       " Timestamp('1994-02-25 00:00:00'),\n",
       " Timestamp('1994-02-25 00:00:00'),\n",
       " Timestamp('1994-02-27 00:00:00'),\n",
       " Timestamp('1994-02-28 00:00:00'),\n",
       " Timestamp('1994-02-28 00:00:00'),\n",
       " Timestamp('1994-03-01 00:00:00'),\n",
       " Timestamp('1994-03-01 00:00:00'),\n",
       " Timestamp('1994-03-02 00:00:00'),\n",
       " Timestamp('1994-03-02 00:00:00'),\n",
       " Timestamp('1994-03-02 00:00:00'),\n",
       " Timestamp('1994-03-02 00:00:00'),\n",
       " Timestamp('1994-03-03 00:00:00'),\n",
       " Timestamp('1994-03-04 00:00:00'),\n",
       " Timestamp('1994-03-04 00:00:00'),\n",
       " Timestamp('1994-03-07 00:00:00'),\n",
       " Timestamp('1994-03-08 00:00:00'),\n",
       " Timestamp('1994-03-08 00:00:00'),\n",
       " Timestamp('1994-03-08 00:00:00'),\n",
       " Timestamp('1994-03-08 00:00:00'),\n",
       " Timestamp('1994-03-09 00:00:00'),\n",
       " Timestamp('1994-03-09 00:00:00'),\n",
       " Timestamp('1994-03-10 00:00:00'),\n",
       " Timestamp('1994-03-10 00:00:00'),\n",
       " Timestamp('1994-03-10 00:00:00'),\n",
       " Timestamp('1994-03-10 00:00:00'),\n",
       " Timestamp('1994-03-10 00:00:00'),\n",
       " Timestamp('1994-03-10 00:00:00'),\n",
       " Timestamp('1994-03-10 00:00:00'),\n",
       " Timestamp('1994-03-11 00:00:00'),\n",
       " Timestamp('1994-03-11 00:00:00'),\n",
       " Timestamp('1994-03-11 00:00:00'),\n",
       " Timestamp('1994-03-12 00:00:00'),\n",
       " Timestamp('1994-03-12 00:00:00'),\n",
       " Timestamp('1994-03-14 00:00:00'),\n",
       " Timestamp('1994-03-15 00:00:00'),\n",
       " Timestamp('1994-03-15 00:00:00'),\n",
       " Timestamp('1994-03-16 00:00:00'),\n",
       " Timestamp('1994-03-16 00:00:00'),\n",
       " Timestamp('1994-03-16 00:00:00'),\n",
       " Timestamp('1994-03-17 00:00:00'),\n",
       " Timestamp('1994-03-17 00:00:00'),\n",
       " Timestamp('1994-03-17 00:00:00'),\n",
       " Timestamp('1994-03-17 00:00:00'),\n",
       " Timestamp('1994-03-18 00:00:00'),\n",
       " Timestamp('1994-03-18 00:00:00'),\n",
       " Timestamp('1994-03-18 00:00:00'),\n",
       " Timestamp('1994-03-19 00:00:00'),\n",
       " Timestamp('1994-03-19 00:00:00'),\n",
       " Timestamp('1994-03-19 00:00:00'),\n",
       " Timestamp('1994-03-20 00:00:00'),\n",
       " Timestamp('1994-03-23 00:00:00'),\n",
       " Timestamp('1994-03-23 00:00:00'),\n",
       " Timestamp('1994-03-23 00:00:00'),\n",
       " Timestamp('1994-03-24 00:00:00'),\n",
       " Timestamp('1994-03-24 00:00:00'),\n",
       " Timestamp('1994-03-24 00:00:00'),\n",
       " Timestamp('1994-03-25 00:00:00'),\n",
       " Timestamp('1994-03-25 00:00:00'),\n",
       " Timestamp('1994-03-26 00:00:00'),\n",
       " Timestamp('1994-03-26 00:00:00'),\n",
       " Timestamp('1994-03-26 00:00:00'),\n",
       " Timestamp('1994-03-26 00:00:00'),\n",
       " Timestamp('1994-03-29 00:00:00'),\n",
       " Timestamp('1994-03-30 00:00:00'),\n",
       " Timestamp('1994-03-30 00:00:00'),\n",
       " Timestamp('1994-03-31 00:00:00'),\n",
       " Timestamp('1994-03-31 00:00:00'),\n",
       " Timestamp('1994-03-31 00:00:00'),\n",
       " Timestamp('1994-03-31 00:00:00'),\n",
       " Timestamp('1994-03-31 00:00:00'),\n",
       " Timestamp('1994-03-31 00:00:00'),\n",
       " Timestamp('1994-04-01 00:00:00'),\n",
       " Timestamp('1994-04-01 00:00:00'),\n",
       " Timestamp('1994-04-01 00:00:00'),\n",
       " Timestamp('1994-04-02 00:00:00'),\n",
       " Timestamp('1994-04-04 00:00:00'),\n",
       " Timestamp('1994-04-04 00:00:00'),\n",
       " Timestamp('1994-04-05 00:00:00'),\n",
       " Timestamp('1994-04-05 00:00:00'),\n",
       " Timestamp('1994-04-05 00:00:00'),\n",
       " Timestamp('1994-04-06 00:00:00'),\n",
       " Timestamp('1994-04-06 00:00:00'),\n",
       " Timestamp('1994-04-06 00:00:00'),\n",
       " Timestamp('1994-04-07 00:00:00'),\n",
       " Timestamp('1994-04-07 00:00:00'),\n",
       " Timestamp('1994-04-07 00:00:00'),\n",
       " Timestamp('1994-04-08 00:00:00'),\n",
       " Timestamp('1994-04-08 00:00:00'),\n",
       " Timestamp('1994-04-08 00:00:00'),\n",
       " Timestamp('1994-04-08 00:00:00'),\n",
       " Timestamp('1994-04-08 00:00:00'),\n",
       " Timestamp('1994-04-08 00:00:00'),\n",
       " Timestamp('1994-04-08 00:00:00'),\n",
       " Timestamp('1994-04-10 00:00:00'),\n",
       " Timestamp('1994-04-12 00:00:00'),\n",
       " Timestamp('1994-04-13 00:00:00'),\n",
       " Timestamp('1994-04-13 00:00:00'),\n",
       " Timestamp('1994-04-13 00:00:00'),\n",
       " Timestamp('1994-04-13 00:00:00'),\n",
       " Timestamp('1994-04-13 00:00:00'),\n",
       " Timestamp('1994-04-14 00:00:00'),\n",
       " Timestamp('1994-04-14 00:00:00'),\n",
       " Timestamp('1994-04-15 00:00:00'),\n",
       " Timestamp('1994-04-15 00:00:00'),\n",
       " Timestamp('1994-04-15 00:00:00'),\n",
       " Timestamp('1994-04-15 00:00:00'),\n",
       " Timestamp('1994-04-15 00:00:00'),\n",
       " Timestamp('1994-04-15 00:00:00'),\n",
       " Timestamp('1994-04-15 00:00:00'),\n",
       " Timestamp('1994-04-16 00:00:00'),\n",
       " Timestamp('1994-04-16 00:00:00'),\n",
       " Timestamp('1994-04-16 00:00:00'),\n",
       " Timestamp('1994-04-16 00:00:00'),\n",
       " Timestamp('1994-04-16 00:00:00'),\n",
       " Timestamp('1994-04-17 00:00:00'),\n",
       " Timestamp('1994-04-18 00:00:00'),\n",
       " Timestamp('1994-04-18 00:00:00'),\n",
       " Timestamp('1994-04-19 00:00:00'),\n",
       " Timestamp('1994-04-19 00:00:00'),\n",
       " Timestamp('1994-04-19 00:00:00'),\n",
       " Timestamp('1994-04-19 00:00:00'),\n",
       " Timestamp('1994-04-20 00:00:00'),\n",
       " Timestamp('1994-04-20 00:00:00'),\n",
       " Timestamp('1994-04-20 00:00:00'),\n",
       " Timestamp('1994-04-20 00:00:00'),\n",
       " Timestamp('1994-04-21 00:00:00'),\n",
       " Timestamp('1994-04-21 00:00:00'),\n",
       " Timestamp('1994-04-21 00:00:00'),\n",
       " Timestamp('1994-04-22 00:00:00'),\n",
       " Timestamp('1994-04-22 00:00:00'),\n",
       " Timestamp('1994-04-22 00:00:00'),\n",
       " Timestamp('1994-04-22 00:00:00'),\n",
       " Timestamp('1994-04-22 00:00:00'),\n",
       " Timestamp('1994-04-22 00:00:00'),\n",
       " Timestamp('1994-04-22 00:00:00'),\n",
       " Timestamp('1994-04-23 00:00:00'),\n",
       " Timestamp('1994-04-24 00:00:00'),\n",
       " Timestamp('1994-04-26 00:00:00'),\n",
       " Timestamp('1994-04-27 00:00:00'),\n",
       " Timestamp('1994-04-27 00:00:00'),\n",
       " Timestamp('1994-04-27 00:00:00'),\n",
       " Timestamp('1994-04-28 00:00:00'),\n",
       " Timestamp('1994-04-28 00:00:00'),\n",
       " Timestamp('1994-04-28 00:00:00'),\n",
       " Timestamp('1994-04-28 00:00:00'),\n",
       " Timestamp('1994-04-28 00:00:00'),\n",
       " Timestamp('1994-04-28 00:00:00'),\n",
       " Timestamp('1994-04-30 00:00:00'),\n",
       " Timestamp('1994-04-30 00:00:00'),\n",
       " Timestamp('1994-04-30 00:00:00'),\n",
       " Timestamp('1994-04-30 00:00:00'),\n",
       " Timestamp('1994-05-02 00:00:00'),\n",
       " Timestamp('1994-05-03 00:00:00'),\n",
       " Timestamp('1994-05-04 00:00:00'),\n",
       " Timestamp('1994-05-06 00:00:00'),\n",
       " Timestamp('1994-05-07 00:00:00'),\n",
       " Timestamp('1994-05-08 00:00:00'),\n",
       " Timestamp('1994-05-08 00:00:00'),\n",
       " Timestamp('1994-05-09 00:00:00'),\n",
       " Timestamp('1994-05-10 00:00:00'),\n",
       " Timestamp('1994-05-12 00:00:00'),\n",
       " Timestamp('1994-05-12 00:00:00'),\n",
       " Timestamp('1994-05-13 00:00:00'),\n",
       " Timestamp('1994-05-13 00:00:00'),\n",
       " Timestamp('1994-05-14 00:00:00'),\n",
       " Timestamp('1994-05-15 00:00:00'),\n",
       " Timestamp('1994-05-17 00:00:00'),\n",
       " Timestamp('1994-05-17 00:00:00'),\n",
       " Timestamp('1994-05-17 00:00:00'),\n",
       " Timestamp('1994-05-17 00:00:00'),\n",
       " Timestamp('1994-05-17 00:00:00'),\n",
       " Timestamp('1994-05-17 00:00:00'),\n",
       " Timestamp('1994-05-17 00:00:00'),\n",
       " Timestamp('1994-05-17 00:00:00'),\n",
       " Timestamp('1994-05-18 00:00:00'),\n",
       " Timestamp('1994-05-18 00:00:00'),\n",
       " Timestamp('1994-05-18 00:00:00'),\n",
       " Timestamp('1994-05-18 00:00:00'),\n",
       " Timestamp('1994-05-18 00:00:00'),\n",
       " Timestamp('1994-05-18 00:00:00'),\n",
       " Timestamp('1994-05-18 00:00:00'),\n",
       " Timestamp('1994-05-18 00:00:00'),\n",
       " Timestamp('1994-05-18 00:00:00'),\n",
       " Timestamp('1994-05-19 00:00:00'),\n",
       " Timestamp('1994-05-19 00:00:00'),\n",
       " Timestamp('1994-05-19 00:00:00'),\n",
       " Timestamp('1994-05-19 00:00:00'),\n",
       " Timestamp('1994-05-19 00:00:00'),\n",
       " Timestamp('1994-05-19 00:00:00'),\n",
       " Timestamp('1994-05-19 00:00:00'),\n",
       " Timestamp('1994-05-19 00:00:00'),\n",
       " Timestamp('1994-05-19 00:00:00'),\n",
       " Timestamp('1994-05-19 00:00:00'),\n",
       " Timestamp('1994-05-19 00:00:00'),\n",
       " Timestamp('1994-05-20 00:00:00'),\n",
       " Timestamp('1994-05-20 00:00:00'),\n",
       " Timestamp('1994-05-20 00:00:00'),\n",
       " Timestamp('1994-05-20 00:00:00'),\n",
       " Timestamp('1994-05-20 00:00:00'),\n",
       " Timestamp('1994-05-20 00:00:00'),\n",
       " Timestamp('1994-05-20 00:00:00'),\n",
       " Timestamp('1994-05-20 00:00:00'),\n",
       " Timestamp('1994-05-20 00:00:00'),\n",
       " Timestamp('1994-05-20 00:00:00'),\n",
       " Timestamp('1994-05-20 00:00:00'),\n",
       " Timestamp('1994-05-21 00:00:00'),\n",
       " Timestamp('1994-05-21 00:00:00'),\n",
       " Timestamp('1994-05-21 00:00:00'),\n",
       " Timestamp('1994-05-21 00:00:00'),\n",
       " Timestamp('1994-05-21 00:00:00'),\n",
       " Timestamp('1994-05-21 00:00:00'),\n",
       " Timestamp('1994-05-21 00:00:00'),\n",
       " Timestamp('1994-05-23 00:00:00'),\n",
       " Timestamp('1994-05-24 00:00:00'),\n",
       " Timestamp('1994-05-24 00:00:00'),\n",
       " Timestamp('1994-05-24 00:00:00'),\n",
       " Timestamp('1994-05-24 00:00:00'),\n",
       " Timestamp('1994-05-24 00:00:00'),\n",
       " Timestamp('1994-05-24 00:00:00'),\n",
       " Timestamp('1994-05-24 00:00:00'),\n",
       " Timestamp('1994-05-25 00:00:00'),\n",
       " Timestamp('1994-05-25 00:00:00'),\n",
       " Timestamp('1994-05-25 00:00:00'),\n",
       " Timestamp('1994-05-25 00:00:00'),\n",
       " Timestamp('1994-05-25 00:00:00'),\n",
       " Timestamp('1994-05-25 00:00:00'),\n",
       " Timestamp('1994-05-25 00:00:00'),\n",
       " Timestamp('1994-05-26 00:00:00'),\n",
       " Timestamp('1994-05-26 00:00:00'),\n",
       " Timestamp('1994-05-27 00:00:00'),\n",
       " Timestamp('1994-05-27 00:00:00'),\n",
       " Timestamp('1994-05-28 00:00:00'),\n",
       " Timestamp('1994-05-28 00:00:00'),\n",
       " Timestamp('1994-05-30 00:00:00'),\n",
       " Timestamp('1994-05-31 00:00:00'),\n",
       " Timestamp('1994-05-31 00:00:00'),\n",
       " Timestamp('1994-05-31 00:00:00'),\n",
       " Timestamp('1994-06-01 00:00:00'),\n",
       " Timestamp('1994-06-01 00:00:00'),\n",
       " Timestamp('1994-06-01 00:00:00'),\n",
       " Timestamp('1994-06-01 00:00:00'),\n",
       " Timestamp('1994-06-01 00:00:00'),\n",
       " Timestamp('1994-06-01 00:00:00'),\n",
       " Timestamp('1994-06-01 00:00:00'),\n",
       " Timestamp('1994-06-02 00:00:00'),\n",
       " Timestamp('1994-06-02 00:00:00'),\n",
       " Timestamp('1994-06-02 00:00:00'),\n",
       " Timestamp('1994-06-02 00:00:00'),\n",
       " Timestamp('1994-06-03 00:00:00'),\n",
       " Timestamp('1994-06-03 00:00:00'),\n",
       " Timestamp('1994-06-03 00:00:00'),\n",
       " Timestamp('1994-06-04 00:00:00'),\n",
       " Timestamp('1994-06-04 00:00:00'),\n",
       " Timestamp('1994-06-04 00:00:00'),\n",
       " Timestamp('1994-06-04 00:00:00'),\n",
       " Timestamp('1994-06-06 00:00:00'),\n",
       " Timestamp('1994-06-07 00:00:00'),\n",
       " Timestamp('1994-06-07 00:00:00'),\n",
       " Timestamp('1994-06-07 00:00:00'),\n",
       " Timestamp('1994-06-07 00:00:00'),\n",
       " Timestamp('1994-06-09 00:00:00'),\n",
       " Timestamp('1994-06-09 00:00:00'),\n",
       " Timestamp('1994-06-09 00:00:00'),\n",
       " Timestamp('1994-06-09 00:00:00'),\n",
       " Timestamp('1994-06-10 00:00:00'),\n",
       " Timestamp('1994-06-10 00:00:00'),\n",
       " Timestamp('1994-06-14 00:00:00'),\n",
       " Timestamp('1994-06-14 00:00:00'),\n",
       " Timestamp('1994-06-14 00:00:00'),\n",
       " Timestamp('1994-06-14 00:00:00'),\n",
       " Timestamp('1994-06-15 00:00:00'),\n",
       " Timestamp('1994-06-15 00:00:00'),\n",
       " Timestamp('1994-06-15 00:00:00'),\n",
       " Timestamp('1994-06-15 00:00:00'),\n",
       " Timestamp('1994-06-15 00:00:00'),\n",
       " Timestamp('1994-06-15 00:00:00'),\n",
       " Timestamp('1994-06-16 00:00:00'),\n",
       " Timestamp('1994-06-16 00:00:00'),\n",
       " Timestamp('1994-06-16 00:00:00'),\n",
       " Timestamp('1994-06-17 00:00:00'),\n",
       " Timestamp('1994-06-17 00:00:00'),\n",
       " Timestamp('1994-06-18 00:00:00'),\n",
       " Timestamp('1994-06-18 00:00:00'),\n",
       " Timestamp('1994-06-18 00:00:00'),\n",
       " Timestamp('1994-06-18 00:00:00'),\n",
       " Timestamp('1994-06-21 00:00:00'),\n",
       " Timestamp('1994-06-21 00:00:00'),\n",
       " Timestamp('1994-06-22 00:00:00'),\n",
       " Timestamp('1994-06-22 00:00:00'),\n",
       " Timestamp('1994-06-23 00:00:00'),\n",
       " Timestamp('1994-06-23 00:00:00'),\n",
       " Timestamp('1994-06-23 00:00:00'),\n",
       " Timestamp('1994-06-23 00:00:00'),\n",
       " Timestamp('1994-06-23 00:00:00'),\n",
       " Timestamp('1994-06-23 00:00:00'),\n",
       " Timestamp('1994-06-25 00:00:00'),\n",
       " Timestamp('1994-06-25 00:00:00'),\n",
       " Timestamp('1994-06-25 00:00:00'),\n",
       " Timestamp('1994-06-26 00:00:00'),\n",
       " Timestamp('1994-06-26 00:00:00'),\n",
       " Timestamp('1994-06-26 00:00:00'),\n",
       " Timestamp('1994-06-27 00:00:00'),\n",
       " Timestamp('1994-06-28 00:00:00'),\n",
       " Timestamp('1994-06-28 00:00:00'),\n",
       " Timestamp('1994-06-28 00:00:00'),\n",
       " Timestamp('1994-06-28 00:00:00'),\n",
       " Timestamp('1994-06-29 00:00:00'),\n",
       " Timestamp('1994-06-29 00:00:00'),\n",
       " Timestamp('1994-06-29 00:00:00'),\n",
       " Timestamp('1994-06-29 00:00:00'),\n",
       " Timestamp('1994-07-01 00:00:00'),\n",
       " Timestamp('1994-07-01 00:00:00'),\n",
       " Timestamp('1994-07-01 00:00:00'),\n",
       " Timestamp('1994-07-01 00:00:00'),\n",
       " Timestamp('1994-07-02 00:00:00'),\n",
       " Timestamp('1994-07-02 00:00:00'),\n",
       " Timestamp('1994-07-03 00:00:00'),\n",
       " Timestamp('1994-07-05 00:00:00'),\n",
       " Timestamp('1994-07-05 00:00:00'),\n",
       " Timestamp('1994-07-06 00:00:00'),\n",
       " Timestamp('1994-07-06 00:00:00'),\n",
       " Timestamp('1994-07-06 00:00:00'),\n",
       " Timestamp('1994-07-06 00:00:00'),\n",
       " Timestamp('1994-07-08 00:00:00'),\n",
       " Timestamp('1994-07-09 00:00:00'),\n",
       " Timestamp('1994-07-12 00:00:00'),\n",
       " Timestamp('1994-07-12 00:00:00'),\n",
       " Timestamp('1994-07-13 00:00:00'),\n",
       " Timestamp('1994-07-13 00:00:00'),\n",
       " Timestamp('1994-07-13 00:00:00'),\n",
       " Timestamp('1994-07-14 00:00:00'),\n",
       " Timestamp('1994-07-14 00:00:00'),\n",
       " Timestamp('1994-07-14 00:00:00'),\n",
       " Timestamp('1994-07-14 00:00:00'),\n",
       " Timestamp('1994-07-15 00:00:00'),\n",
       " Timestamp('1994-07-15 00:00:00'),\n",
       " Timestamp('1994-07-15 00:00:00'),\n",
       " Timestamp('1994-07-16 00:00:00'),\n",
       " Timestamp('1994-07-17 00:00:00'),\n",
       " Timestamp('1994-07-19 00:00:00'),\n",
       " Timestamp('1994-07-19 00:00:00'),\n",
       " Timestamp('1994-07-19 00:00:00'),\n",
       " Timestamp('1994-07-20 00:00:00'),\n",
       " Timestamp('1994-07-20 00:00:00'),\n",
       " Timestamp('1994-07-20 00:00:00'),\n",
       " Timestamp('1994-07-21 00:00:00'),\n",
       " Timestamp('1994-07-21 00:00:00'),\n",
       " Timestamp('1994-07-21 00:00:00'),\n",
       " Timestamp('1994-07-21 00:00:00'),\n",
       " Timestamp('1994-07-21 00:00:00'),\n",
       " Timestamp('1994-07-21 00:00:00'),\n",
       " Timestamp('1994-07-21 00:00:00'),\n",
       " Timestamp('1994-07-21 00:00:00'),\n",
       " Timestamp('1994-07-22 00:00:00'),\n",
       " Timestamp('1994-07-22 00:00:00'),\n",
       " Timestamp('1994-07-22 00:00:00'),\n",
       " Timestamp('1994-07-22 00:00:00'),\n",
       " Timestamp('1994-07-22 00:00:00'),\n",
       " Timestamp('1994-07-22 00:00:00'),\n",
       " Timestamp('1994-07-22 00:00:00'),\n",
       " Timestamp('1994-07-23 00:00:00'),\n",
       " Timestamp('1994-07-23 00:00:00'),\n",
       " Timestamp('1994-07-23 00:00:00'),\n",
       " Timestamp('1994-07-26 00:00:00'),\n",
       " Timestamp('1994-07-26 00:00:00'),\n",
       " Timestamp('1994-07-26 00:00:00'),\n",
       " Timestamp('1994-07-26 00:00:00'),\n",
       " Timestamp('1994-07-26 00:00:00'),\n",
       " Timestamp('1994-07-27 00:00:00'),\n",
       " Timestamp('1994-07-27 00:00:00'),\n",
       " Timestamp('1994-07-27 00:00:00'),\n",
       " Timestamp('1994-07-27 00:00:00'),\n",
       " Timestamp('1994-07-27 00:00:00'),\n",
       " Timestamp('1994-07-27 00:00:00'),\n",
       " Timestamp('1994-07-27 00:00:00'),\n",
       " Timestamp('1994-07-27 00:00:00'),\n",
       " Timestamp('1994-07-27 00:00:00'),\n",
       " Timestamp('1994-07-28 00:00:00'),\n",
       " Timestamp('1994-07-28 00:00:00'),\n",
       " Timestamp('1994-07-28 00:00:00'),\n",
       " Timestamp('1994-07-28 00:00:00'),\n",
       " Timestamp('1994-07-29 00:00:00'),\n",
       " Timestamp('1994-07-29 00:00:00'),\n",
       " Timestamp('1994-07-29 00:00:00'),\n",
       " Timestamp('1994-07-30 00:00:00'),\n",
       " Timestamp('1994-07-30 00:00:00'),\n",
       " Timestamp('1994-07-30 00:00:00'),\n",
       " Timestamp('1994-07-30 00:00:00'),\n",
       " Timestamp('1994-07-31 00:00:00'),\n",
       " Timestamp('1994-07-31 00:00:00'),\n",
       " Timestamp('1994-08-01 00:00:00'),\n",
       " Timestamp('1994-08-02 00:00:00'),\n",
       " Timestamp('1994-08-05 00:00:00'),\n",
       " Timestamp('1994-08-05 00:00:00'),\n",
       " Timestamp('1994-08-05 00:00:00'),\n",
       " Timestamp('1994-08-05 00:00:00'),\n",
       " Timestamp('1994-08-05 00:00:00'),\n",
       " Timestamp('1994-08-06 00:00:00'),\n",
       " Timestamp('1994-08-06 00:00:00'),\n",
       " Timestamp('1994-08-06 00:00:00'),\n",
       " Timestamp('1994-08-07 00:00:00'),\n",
       " Timestamp('1994-08-09 00:00:00'),\n",
       " Timestamp('1994-08-09 00:00:00'),\n",
       " Timestamp('1994-08-09 00:00:00'),\n",
       " Timestamp('1994-08-10 00:00:00'),\n",
       " Timestamp('1994-08-10 00:00:00'),\n",
       " Timestamp('1994-08-10 00:00:00'),\n",
       " Timestamp('1994-08-10 00:00:00'),\n",
       " Timestamp('1994-08-10 00:00:00'),\n",
       " Timestamp('1994-08-10 00:00:00'),\n",
       " Timestamp('1994-08-10 00:00:00'),\n",
       " Timestamp('1994-08-11 00:00:00'),\n",
       " Timestamp('1994-08-11 00:00:00'),\n",
       " Timestamp('1994-08-11 00:00:00'),\n",
       " Timestamp('1994-08-11 00:00:00'),\n",
       " Timestamp('1994-08-11 00:00:00'),\n",
       " Timestamp('1994-08-11 00:00:00'),\n",
       " Timestamp('1994-08-12 00:00:00'),\n",
       " Timestamp('1994-08-12 00:00:00'),\n",
       " Timestamp('1994-08-12 00:00:00'),\n",
       " Timestamp('1994-08-13 00:00:00'),\n",
       " Timestamp('1994-08-13 00:00:00'),\n",
       " Timestamp('1994-08-13 00:00:00'),\n",
       " Timestamp('1994-08-13 00:00:00'),\n",
       " Timestamp('1994-08-16 00:00:00'),\n",
       " Timestamp('1994-08-16 00:00:00'),\n",
       " Timestamp('1994-08-16 00:00:00'),\n",
       " Timestamp('1994-08-17 00:00:00'),\n",
       " Timestamp('1994-08-17 00:00:00'),\n",
       " Timestamp('1994-08-18 00:00:00'),\n",
       " Timestamp('1994-08-18 00:00:00'),\n",
       " Timestamp('1994-08-18 00:00:00'),\n",
       " Timestamp('1994-08-18 00:00:00'),\n",
       " Timestamp('1994-08-18 00:00:00'),\n",
       " Timestamp('1994-08-19 00:00:00'),\n",
       " Timestamp('1994-08-21 00:00:00'),\n",
       " Timestamp('1994-08-22 00:00:00'),\n",
       " Timestamp('1994-08-23 00:00:00'),\n",
       " Timestamp('1994-08-23 00:00:00'),\n",
       " Timestamp('1994-08-23 00:00:00'),\n",
       " Timestamp('1994-08-23 00:00:00'),\n",
       " Timestamp('1994-08-23 00:00:00'),\n",
       " Timestamp('1994-08-23 00:00:00'),\n",
       " Timestamp('1994-08-24 00:00:00'),\n",
       " Timestamp('1994-08-24 00:00:00'),\n",
       " Timestamp('1994-08-25 00:00:00'),\n",
       " Timestamp('1994-08-25 00:00:00'),\n",
       " Timestamp('1994-08-25 00:00:00'),\n",
       " Timestamp('1994-08-25 00:00:00'),\n",
       " Timestamp('1994-08-26 00:00:00'),\n",
       " Timestamp('1994-08-26 00:00:00'),\n",
       " Timestamp('1994-08-26 00:00:00'),\n",
       " Timestamp('1994-08-26 00:00:00'),\n",
       " Timestamp('1994-08-26 00:00:00'),\n",
       " Timestamp('1994-08-26 00:00:00'),\n",
       " Timestamp('1994-08-26 00:00:00'),\n",
       " Timestamp('1994-08-27 00:00:00'),\n",
       " Timestamp('1994-08-27 00:00:00'),\n",
       " Timestamp('1994-08-27 00:00:00'),\n",
       " Timestamp('1994-08-27 00:00:00'),\n",
       " Timestamp('1994-08-30 00:00:00'),\n",
       " Timestamp('1994-08-30 00:00:00'),\n",
       " Timestamp('1994-08-30 00:00:00'),\n",
       " Timestamp('1994-08-31 00:00:00'),\n",
       " Timestamp('1994-09-01 00:00:00'),\n",
       " Timestamp('1994-09-01 00:00:00'),\n",
       " Timestamp('1994-09-01 00:00:00'),\n",
       " Timestamp('1994-09-01 00:00:00'),\n",
       " Timestamp('1994-09-02 00:00:00'),\n",
       " Timestamp('1994-09-02 00:00:00'),\n",
       " Timestamp('1994-09-02 00:00:00'),\n",
       " Timestamp('1994-09-03 00:00:00'),\n",
       " Timestamp('1994-09-03 00:00:00'),\n",
       " Timestamp('1994-09-04 00:00:00'),\n",
       " Timestamp('1994-09-04 00:00:00'),\n",
       " Timestamp('1994-09-06 00:00:00'),\n",
       " Timestamp('1994-09-06 00:00:00'),\n",
       " Timestamp('1994-09-07 00:00:00'),\n",
       " Timestamp('1994-09-07 00:00:00'),\n",
       " Timestamp('1994-09-07 00:00:00'),\n",
       " Timestamp('1994-09-08 00:00:00'),\n",
       " Timestamp('1994-09-08 00:00:00'),\n",
       " Timestamp('1994-09-10 00:00:00'),\n",
       " Timestamp('1994-09-10 00:00:00'),\n",
       " Timestamp('1994-09-11 00:00:00'),\n",
       " Timestamp('1994-09-11 00:00:00'),\n",
       " Timestamp('1994-09-13 00:00:00'),\n",
       " Timestamp('1994-09-14 00:00:00'),\n",
       " Timestamp('1994-09-14 00:00:00'),\n",
       " Timestamp('1994-09-14 00:00:00'),\n",
       " Timestamp('1994-09-16 00:00:00'),\n",
       " Timestamp('1994-09-16 00:00:00'),\n",
       " Timestamp('1994-09-16 00:00:00'),\n",
       " Timestamp('1994-09-17 00:00:00'),\n",
       " Timestamp('1994-09-17 00:00:00'),\n",
       " Timestamp('1994-09-17 00:00:00'),\n",
       " Timestamp('1994-09-17 00:00:00'),\n",
       " Timestamp('1994-09-20 00:00:00'),\n",
       " Timestamp('1994-09-20 00:00:00'),\n",
       " Timestamp('1994-09-20 00:00:00'),\n",
       " Timestamp('1994-09-21 00:00:00'),\n",
       " Timestamp('1994-09-22 00:00:00'),\n",
       " Timestamp('1994-09-22 00:00:00'),\n",
       " Timestamp('1994-09-23 00:00:00'),\n",
       " Timestamp('1994-09-23 00:00:00'),\n",
       " Timestamp('1994-09-23 00:00:00'),\n",
       " Timestamp('1994-09-26 00:00:00'),\n",
       " Timestamp('1994-09-27 00:00:00'),\n",
       " Timestamp('1994-09-28 00:00:00'),\n",
       " Timestamp('1994-09-29 00:00:00'),\n",
       " Timestamp('1994-09-30 00:00:00'),\n",
       " Timestamp('1994-09-30 00:00:00'),\n",
       " Timestamp('1994-09-30 00:00:00'),\n",
       " Timestamp('1994-09-30 00:00:00'),\n",
       " Timestamp('1994-09-30 00:00:00'),\n",
       " Timestamp('1994-10-01 00:00:00'),\n",
       " Timestamp('1994-10-02 00:00:00'),\n",
       " Timestamp('1994-10-02 00:00:00'),\n",
       " Timestamp('1994-10-03 00:00:00'),\n",
       " Timestamp('1994-10-04 00:00:00'),\n",
       " Timestamp('1994-10-05 00:00:00'),\n",
       " Timestamp('1994-10-05 00:00:00'),\n",
       " Timestamp('1994-10-05 00:00:00'),\n",
       " Timestamp('1994-10-06 00:00:00'),\n",
       " Timestamp('1994-10-06 00:00:00'),\n",
       " Timestamp('1994-10-07 00:00:00'),\n",
       " Timestamp('1994-10-08 00:00:00'),\n",
       " Timestamp('1994-10-08 00:00:00'),\n",
       " Timestamp('1994-10-10 00:00:00'),\n",
       " Timestamp('1994-10-10 00:00:00'),\n",
       " Timestamp('1994-10-12 00:00:00'),\n",
       " Timestamp('1994-10-12 00:00:00'),\n",
       " Timestamp('1994-10-12 00:00:00'),\n",
       " Timestamp('1994-10-12 00:00:00'),\n",
       " Timestamp('1994-10-13 00:00:00'),\n",
       " Timestamp('1994-10-14 00:00:00'),\n",
       " Timestamp('1994-10-14 00:00:00'),\n",
       " Timestamp('1994-10-14 00:00:00'),\n",
       " Timestamp('1994-10-14 00:00:00'),\n",
       " Timestamp('1994-10-14 00:00:00'),\n",
       " Timestamp('1994-10-14 00:00:00'),\n",
       " Timestamp('1994-10-15 00:00:00'),\n",
       " Timestamp('1994-10-15 00:00:00'),\n",
       " Timestamp('1994-10-15 00:00:00'),\n",
       " Timestamp('1994-10-19 00:00:00'),\n",
       " Timestamp('1994-10-19 00:00:00'),\n",
       " Timestamp('1994-10-20 00:00:00'),\n",
       " Timestamp('1994-10-20 00:00:00'),\n",
       " Timestamp('1994-10-20 00:00:00'),\n",
       " Timestamp('1994-10-21 00:00:00'),\n",
       " Timestamp('1994-10-22 00:00:00'),\n",
       " Timestamp('1994-10-24 00:00:00'),\n",
       " Timestamp('1994-10-25 00:00:00'),\n",
       " Timestamp('1994-10-25 00:00:00'),\n",
       " Timestamp('1994-10-26 00:00:00'),\n",
       " Timestamp('1994-10-26 00:00:00'),\n",
       " Timestamp('1994-10-27 00:00:00'),\n",
       " Timestamp('1994-10-27 00:00:00'),\n",
       " Timestamp('1994-10-28 00:00:00'),\n",
       " Timestamp('1994-10-28 00:00:00'),\n",
       " Timestamp('1994-10-28 00:00:00'),\n",
       " Timestamp('1994-10-28 00:00:00'),\n",
       " Timestamp('1994-10-28 00:00:00'),\n",
       " Timestamp('1994-10-29 00:00:00'),\n",
       " Timestamp('1994-10-31 00:00:00'),\n",
       " Timestamp('1994-11-01 00:00:00'),\n",
       " Timestamp('1994-11-01 00:00:00'),\n",
       " Timestamp('1994-11-01 00:00:00'),\n",
       " Timestamp('1994-11-01 00:00:00'),\n",
       " Timestamp('1994-11-01 00:00:00'),\n",
       " Timestamp('1994-11-02 00:00:00'),\n",
       " Timestamp('1994-11-03 00:00:00'),\n",
       " Timestamp('1994-11-03 00:00:00'),\n",
       " Timestamp('1994-11-04 00:00:00'),\n",
       " Timestamp('1994-11-07 00:00:00'),\n",
       " Timestamp('1994-11-08 00:00:00'),\n",
       " Timestamp('1994-11-08 00:00:00'),\n",
       " Timestamp('1994-11-08 00:00:00'),\n",
       " Timestamp('1994-11-08 00:00:00'),\n",
       " Timestamp('1994-11-08 00:00:00'),\n",
       " Timestamp('1994-11-09 00:00:00'),\n",
       " Timestamp('1994-11-09 00:00:00'),\n",
       " Timestamp('1994-11-10 00:00:00'),\n",
       " Timestamp('1994-11-11 00:00:00'),\n",
       " Timestamp('1994-11-11 00:00:00'),\n",
       " Timestamp('1994-11-11 00:00:00'),\n",
       " Timestamp('1994-11-12 00:00:00'),\n",
       " Timestamp('1994-11-12 00:00:00'),\n",
       " Timestamp('1994-11-12 00:00:00'),\n",
       " Timestamp('1994-11-12 00:00:00'),\n",
       " Timestamp('1994-11-13 00:00:00'),\n",
       " Timestamp('1994-11-13 00:00:00'),\n",
       " Timestamp('1994-11-15 00:00:00'),\n",
       " Timestamp('1994-11-15 00:00:00'),\n",
       " Timestamp('1994-11-16 00:00:00'),\n",
       " Timestamp('1994-11-16 00:00:00'),\n",
       " Timestamp('1994-11-17 00:00:00'),\n",
       " Timestamp('1994-11-17 00:00:00'),\n",
       " Timestamp('1994-11-17 00:00:00'),\n",
       " Timestamp('1994-11-17 00:00:00'),\n",
       " Timestamp('1994-11-17 00:00:00'),\n",
       " Timestamp('1994-11-18 00:00:00'),\n",
       " Timestamp('1994-11-19 00:00:00'),\n",
       " Timestamp('1994-11-19 00:00:00'),\n",
       " Timestamp('1994-11-19 00:00:00'),\n",
       " Timestamp('1994-11-22 00:00:00'),\n",
       " Timestamp('1994-11-22 00:00:00'),\n",
       " Timestamp('1994-11-22 00:00:00'),\n",
       " Timestamp('1994-11-23 00:00:00'),\n",
       " Timestamp('1994-11-23 00:00:00'),\n",
       " Timestamp('1994-11-23 00:00:00'),\n",
       " Timestamp('1994-11-25 00:00:00'),\n",
       " Timestamp('1994-11-25 00:00:00'),\n",
       " Timestamp('1994-11-25 00:00:00'),\n",
       " Timestamp('1994-11-26 00:00:00'),\n",
       " Timestamp('1994-11-26 00:00:00'),\n",
       " Timestamp('1994-11-26 00:00:00'),\n",
       " Timestamp('1994-11-29 00:00:00'),\n",
       " Timestamp('1994-11-29 00:00:00'),\n",
       " Timestamp('1994-11-30 00:00:00'),\n",
       " Timestamp('1994-11-30 00:00:00'),\n",
       " Timestamp('1994-12-01 00:00:00'),\n",
       " Timestamp('1994-12-02 00:00:00'),\n",
       " Timestamp('1994-12-02 00:00:00'),\n",
       " Timestamp('1994-12-03 00:00:00'),\n",
       " Timestamp('1994-12-03 00:00:00'),\n",
       " Timestamp('1994-12-03 00:00:00'),\n",
       " Timestamp('1994-12-04 00:00:00'),\n",
       " Timestamp('1994-12-05 00:00:00'),\n",
       " Timestamp('1994-12-06 00:00:00'),\n",
       " Timestamp('1994-12-07 00:00:00'),\n",
       " Timestamp('1994-12-07 00:00:00'),\n",
       " Timestamp('1994-12-08 00:00:00'),\n",
       " Timestamp('1994-12-08 00:00:00'),\n",
       " Timestamp('1994-12-08 00:00:00'),\n",
       " Timestamp('1994-12-09 00:00:00'),\n",
       " Timestamp('1994-12-09 00:00:00'),\n",
       " Timestamp('1994-12-09 00:00:00'),\n",
       " Timestamp('1994-12-10 00:00:00'),\n",
       " Timestamp('1994-12-10 00:00:00'),\n",
       " Timestamp('1994-12-10 00:00:00'),\n",
       " Timestamp('1994-12-13 00:00:00'),\n",
       " Timestamp('1994-12-13 00:00:00'),\n",
       " Timestamp('1994-12-13 00:00:00'),\n",
       " Timestamp('1994-12-13 00:00:00'),\n",
       " Timestamp('1994-12-13 00:00:00'),\n",
       " Timestamp('1994-12-14 00:00:00'),\n",
       " Timestamp('1994-12-14 00:00:00'),\n",
       " Timestamp('1994-12-14 00:00:00'),\n",
       " Timestamp('1994-12-15 00:00:00'),\n",
       " Timestamp('1994-12-16 00:00:00'),\n",
       " Timestamp('1994-12-16 00:00:00'),\n",
       " Timestamp('1994-12-16 00:00:00'),\n",
       " Timestamp('1994-12-17 00:00:00'),\n",
       " Timestamp('1994-12-18 00:00:00'),\n",
       " Timestamp('1994-12-20 00:00:00'),\n",
       " Timestamp('1994-12-21 00:00:00'),\n",
       " Timestamp('1994-12-21 00:00:00'),\n",
       " Timestamp('1994-12-21 00:00:00'),\n",
       " Timestamp('1994-12-22 00:00:00'),\n",
       " Timestamp('1994-12-23 00:00:00'),\n",
       " Timestamp('1994-12-23 00:00:00'),\n",
       " Timestamp('1994-12-23 00:00:00'),\n",
       " Timestamp('1994-12-25 00:00:00'),\n",
       " Timestamp('1994-12-25 00:00:00'),\n",
       " Timestamp('1994-12-25 00:00:00'),\n",
       " Timestamp('1994-12-26 00:00:00'),\n",
       " Timestamp('1994-12-27 00:00:00'),\n",
       " Timestamp('1994-12-27 00:00:00'),\n",
       " Timestamp('1994-12-27 00:00:00'),\n",
       " Timestamp('1994-12-27 00:00:00'),\n",
       " Timestamp('1994-12-27 00:00:00'),\n",
       " Timestamp('1994-12-27 00:00:00'),\n",
       " Timestamp('1994-12-29 00:00:00'),\n",
       " Timestamp('1994-12-29 00:00:00'),\n",
       " Timestamp('1994-12-29 00:00:00'),\n",
       " Timestamp('1994-12-31 00:00:00'),\n",
       " Timestamp('1995-01-03 00:00:00'),\n",
       " Timestamp('1995-01-03 00:00:00'),\n",
       " Timestamp('1995-01-03 00:00:00'),\n",
       " Timestamp('1995-01-04 00:00:00'),\n",
       " Timestamp('1995-01-04 00:00:00'),\n",
       " Timestamp('1995-01-05 00:00:00'),\n",
       " Timestamp('1995-01-06 00:00:00'),\n",
       " Timestamp('1995-01-07 00:00:00'),\n",
       " Timestamp('1995-01-10 00:00:00'),\n",
       " Timestamp('1995-01-10 00:00:00'),\n",
       " Timestamp('1995-01-11 00:00:00'),\n",
       " Timestamp('1995-01-11 00:00:00'),\n",
       " Timestamp('1995-01-12 00:00:00'),\n",
       " Timestamp('1995-01-12 00:00:00'),\n",
       " Timestamp('1995-01-13 00:00:00'),\n",
       " Timestamp('1995-01-13 00:00:00'),\n",
       " Timestamp('1995-01-13 00:00:00'),\n",
       " Timestamp('1995-01-13 00:00:00'),\n",
       " Timestamp('1995-01-16 00:00:00'),\n",
       " Timestamp('1995-01-18 00:00:00'),\n",
       " Timestamp('1995-01-18 00:00:00'),\n",
       " Timestamp('1995-01-18 00:00:00'),\n",
       " Timestamp('1995-01-19 00:00:00'),\n",
       " Timestamp('1995-01-19 00:00:00'),\n",
       " Timestamp('1995-01-19 00:00:00'),\n",
       " Timestamp('1995-01-19 00:00:00'),\n",
       " Timestamp('1995-01-19 00:00:00'),\n",
       " Timestamp('1995-01-19 00:00:00'),\n",
       " Timestamp('1995-01-19 00:00:00'),\n",
       " Timestamp('1995-01-19 00:00:00'),\n",
       " Timestamp('1995-01-20 00:00:00'),\n",
       " Timestamp('1995-01-20 00:00:00'),\n",
       " Timestamp('1995-01-20 00:00:00'),\n",
       " Timestamp('1995-01-21 00:00:00'),\n",
       " Timestamp('1995-01-21 00:00:00'),\n",
       " Timestamp('1995-01-21 00:00:00'),\n",
       " Timestamp('1995-01-22 00:00:00'),\n",
       " Timestamp('1995-01-23 00:00:00'),\n",
       " Timestamp('1995-01-23 00:00:00'),\n",
       " Timestamp('1995-01-24 00:00:00'),\n",
       " Timestamp('1995-01-24 00:00:00'),\n",
       " Timestamp('1995-01-25 00:00:00'),\n",
       " Timestamp('1995-01-25 00:00:00'),\n",
       " Timestamp('1995-01-25 00:00:00'),\n",
       " Timestamp('1995-01-25 00:00:00'),\n",
       " Timestamp('1995-01-26 00:00:00'),\n",
       " Timestamp('1995-01-26 00:00:00'),\n",
       " Timestamp('1995-01-26 00:00:00'),\n",
       " Timestamp('1995-01-26 00:00:00'),\n",
       " Timestamp('1995-01-26 00:00:00'),\n",
       " Timestamp('1995-01-26 00:00:00'),\n",
       " Timestamp('1995-01-27 00:00:00'),\n",
       " Timestamp('1995-01-27 00:00:00'),\n",
       " Timestamp('1995-01-27 00:00:00'),\n",
       " Timestamp('1995-01-27 00:00:00'),\n",
       " Timestamp('1995-01-27 00:00:00'),\n",
       " Timestamp('1995-01-27 00:00:00'),\n",
       " Timestamp('1995-01-27 00:00:00'),\n",
       " Timestamp('1995-01-27 00:00:00'),\n",
       " Timestamp('1995-01-29 00:00:00'),\n",
       " Timestamp('1995-01-31 00:00:00'),\n",
       " Timestamp('1995-01-31 00:00:00'),\n",
       " Timestamp('1995-02-01 00:00:00'),\n",
       " Timestamp('1995-02-01 00:00:00'),\n",
       " Timestamp('1995-02-02 00:00:00'),\n",
       " Timestamp('1995-02-02 00:00:00'),\n",
       " Timestamp('1995-02-02 00:00:00'),\n",
       " Timestamp('1995-02-02 00:00:00'),\n",
       " Timestamp('1995-02-03 00:00:00'),\n",
       " Timestamp('1995-02-04 00:00:00'),\n",
       " Timestamp('1995-02-04 00:00:00'),\n",
       " Timestamp('1995-02-04 00:00:00'),\n",
       " Timestamp('1995-02-07 00:00:00'),\n",
       " Timestamp('1995-02-07 00:00:00'),\n",
       " Timestamp('1995-02-08 00:00:00'),\n",
       " Timestamp('1995-02-08 00:00:00'),\n",
       " Timestamp('1995-02-08 00:00:00'),\n",
       " Timestamp('1995-02-08 00:00:00'),\n",
       " Timestamp('1995-02-10 00:00:00'),\n",
       " Timestamp('1995-02-10 00:00:00'),\n",
       " Timestamp('1995-02-13 00:00:00'),\n",
       " Timestamp('1995-02-16 00:00:00'),\n",
       " Timestamp('1995-02-16 00:00:00'),\n",
       " Timestamp('1995-02-16 00:00:00'),\n",
       " Timestamp('1995-02-21 00:00:00'),\n",
       " Timestamp('1995-02-23 00:00:00'),\n",
       " Timestamp('1995-02-23 00:00:00'),\n",
       " Timestamp('1995-02-24 00:00:00'),\n",
       " Timestamp('1995-02-25 00:00:00'),\n",
       " Timestamp('1995-02-25 00:00:00'),\n",
       " Timestamp('1995-02-28 00:00:00'),\n",
       " Timestamp('1995-03-01 00:00:00'),\n",
       " Timestamp('1995-03-01 00:00:00'),\n",
       " Timestamp('1995-03-01 00:00:00'),\n",
       " Timestamp('1995-03-03 00:00:00'),\n",
       " Timestamp('1995-03-03 00:00:00'),\n",
       " Timestamp('1995-03-03 00:00:00'),\n",
       " Timestamp('1995-03-03 00:00:00'),\n",
       " Timestamp('1995-03-06 00:00:00'),\n",
       " Timestamp('1995-03-07 00:00:00'),\n",
       " Timestamp('1995-03-07 00:00:00'),\n",
       " Timestamp('1995-03-07 00:00:00'),\n",
       " Timestamp('1995-03-08 00:00:00'),\n",
       " Timestamp('1995-03-09 00:00:00'),\n",
       " Timestamp('1995-03-09 00:00:00'),\n",
       " Timestamp('1995-03-09 00:00:00'),\n",
       " Timestamp('1995-03-09 00:00:00'),\n",
       " Timestamp('1995-03-09 00:00:00'),\n",
       " Timestamp('1995-03-09 00:00:00'),\n",
       " Timestamp('1995-03-09 00:00:00'),\n",
       " Timestamp('1995-03-09 00:00:00'),\n",
       " Timestamp('1995-03-10 00:00:00'),\n",
       " Timestamp('1995-03-10 00:00:00'),\n",
       " Timestamp('1995-03-10 00:00:00'),\n",
       " Timestamp('1995-03-10 00:00:00'),\n",
       " Timestamp('1995-03-10 00:00:00'),\n",
       " Timestamp('1995-03-11 00:00:00'),\n",
       " Timestamp('1995-03-11 00:00:00'),\n",
       " Timestamp('1995-03-13 00:00:00'),\n",
       " Timestamp('1995-03-14 00:00:00'),\n",
       " Timestamp('1995-03-14 00:00:00'),\n",
       " Timestamp('1995-03-16 00:00:00'),\n",
       " Timestamp('1995-03-16 00:00:00'),\n",
       " Timestamp('1995-03-16 00:00:00'),\n",
       " Timestamp('1995-03-16 00:00:00'),\n",
       " Timestamp('1995-03-16 00:00:00'),\n",
       " Timestamp('1995-03-17 00:00:00'),\n",
       " Timestamp('1995-03-18 00:00:00'),\n",
       " Timestamp('1995-03-18 00:00:00'),\n",
       " Timestamp('1995-03-18 00:00:00'),\n",
       " Timestamp('1995-03-18 00:00:00'),\n",
       " Timestamp('1995-03-19 00:00:00'),\n",
       " Timestamp('1995-03-21 00:00:00'),\n",
       " Timestamp('1995-03-21 00:00:00'),\n",
       " Timestamp('1995-03-21 00:00:00'),\n",
       " Timestamp('1995-03-23 00:00:00'),\n",
       " Timestamp('1995-03-24 00:00:00'),\n",
       " Timestamp('1995-03-24 00:00:00'),\n",
       " Timestamp('1995-03-25 00:00:00'),\n",
       " Timestamp('1995-03-29 00:00:00'),\n",
       " Timestamp('1995-03-30 00:00:00'),\n",
       " Timestamp('1995-03-30 00:00:00'),\n",
       " Timestamp('1995-03-31 00:00:00'),\n",
       " Timestamp('1995-03-31 00:00:00'),\n",
       " Timestamp('1995-03-31 00:00:00'),\n",
       " Timestamp('1995-04-01 00:00:00'),\n",
       " Timestamp('1995-04-05 00:00:00'),\n",
       " Timestamp('1995-04-07 00:00:00'),\n",
       " Timestamp('1995-04-07 00:00:00'),\n",
       " Timestamp('1995-04-09 00:00:00'),\n",
       " Timestamp('1995-04-10 00:00:00'),\n",
       " Timestamp('1995-04-11 00:00:00'),\n",
       " Timestamp('1995-04-11 00:00:00'),\n",
       " Timestamp('1995-04-13 00:00:00'),\n",
       " Timestamp('1995-04-14 00:00:00'),\n",
       " Timestamp('1995-04-15 00:00:00'),\n",
       " Timestamp('1995-04-18 00:00:00'),\n",
       " Timestamp('1995-04-19 00:00:00'),\n",
       " Timestamp('1995-04-19 00:00:00'),\n",
       " Timestamp('1995-04-19 00:00:00'),\n",
       " Timestamp('1995-04-20 00:00:00'),\n",
       " Timestamp('1995-04-20 00:00:00'),\n",
       " Timestamp('1995-04-21 00:00:00'),\n",
       " Timestamp('1995-04-21 00:00:00'),\n",
       " Timestamp('1995-04-21 00:00:00'),\n",
       " Timestamp('1995-04-21 00:00:00'),\n",
       " Timestamp('1995-04-21 00:00:00'),\n",
       " Timestamp('1995-04-22 00:00:00'),\n",
       " Timestamp('1995-04-22 00:00:00'),\n",
       " Timestamp('1995-04-22 00:00:00'),\n",
       " Timestamp('1995-04-25 00:00:00'),\n",
       " Timestamp('1995-04-26 00:00:00'),\n",
       " Timestamp('1995-04-26 00:00:00'),\n",
       " Timestamp('1995-04-26 00:00:00'),\n",
       " Timestamp('1995-04-28 00:00:00'),\n",
       " Timestamp('1995-04-28 00:00:00'),\n",
       " Timestamp('1995-04-28 00:00:00'),\n",
       " Timestamp('1995-04-28 00:00:00'),\n",
       " Timestamp('1995-04-28 00:00:00'),\n",
       " Timestamp('1995-04-29 00:00:00'),\n",
       " Timestamp('1995-04-29 00:00:00'),\n",
       " Timestamp('1995-04-29 00:00:00'),\n",
       " Timestamp('1995-04-29 00:00:00'),\n",
       " Timestamp('1995-05-01 00:00:00'),\n",
       " Timestamp('1995-05-02 00:00:00'),\n",
       " Timestamp('1995-05-03 00:00:00'),\n",
       " Timestamp('1995-05-03 00:00:00'),\n",
       " Timestamp('1995-05-08 00:00:00'),\n",
       " Timestamp('1995-05-08 00:00:00'),\n",
       " Timestamp('1995-05-09 00:00:00'),\n",
       " Timestamp('1995-05-09 00:00:00'),\n",
       " Timestamp('1995-05-09 00:00:00'),\n",
       " Timestamp('1995-05-09 00:00:00'),\n",
       " Timestamp('1995-05-10 00:00:00'),\n",
       " Timestamp('1995-05-12 00:00:00'),\n",
       " Timestamp('1995-05-12 00:00:00'),\n",
       " Timestamp('1995-05-12 00:00:00'),\n",
       " Timestamp('1995-05-13 00:00:00'),\n",
       " Timestamp('1995-05-13 00:00:00'),\n",
       " Timestamp('1995-05-13 00:00:00'),\n",
       " Timestamp('1995-05-17 00:00:00'),\n",
       " Timestamp('1995-05-17 00:00:00'),\n",
       " Timestamp('1995-05-18 00:00:00'),\n",
       " Timestamp('1995-05-18 00:00:00'),\n",
       " Timestamp('1995-05-18 00:00:00'),\n",
       " Timestamp('1995-05-19 00:00:00'),\n",
       " Timestamp('1995-05-19 00:00:00'),\n",
       " Timestamp('1995-05-20 00:00:00'),\n",
       " Timestamp('1995-05-20 00:00:00'),\n",
       " Timestamp('1995-05-20 00:00:00'),\n",
       " Timestamp('1995-05-20 00:00:00'),\n",
       " Timestamp('1995-05-21 00:00:00'),\n",
       " Timestamp('1995-05-23 00:00:00'),\n",
       " Timestamp('1995-05-23 00:00:00'),\n",
       " Timestamp('1995-05-23 00:00:00'),\n",
       " Timestamp('1995-05-25 00:00:00'),\n",
       " Timestamp('1995-05-26 00:00:00'),\n",
       " Timestamp('1995-05-27 00:00:00'),\n",
       " Timestamp('1995-05-29 00:00:00'),\n",
       " Timestamp('1995-05-30 00:00:00'),\n",
       " Timestamp('1995-05-31 00:00:00'),\n",
       " Timestamp('1995-05-31 00:00:00'),\n",
       " Timestamp('1995-06-01 00:00:00'),\n",
       " Timestamp('1995-06-02 00:00:00'),\n",
       " Timestamp('1995-06-02 00:00:00'),\n",
       " Timestamp('1995-06-02 00:00:00'),\n",
       " Timestamp('1995-06-02 00:00:00'),\n",
       " Timestamp('1995-06-03 00:00:00'),\n",
       " Timestamp('1995-06-03 00:00:00'),\n",
       " Timestamp('1995-06-03 00:00:00'),\n",
       " Timestamp('1995-06-03 00:00:00'),\n",
       " Timestamp('1995-06-04 00:00:00'),\n",
       " Timestamp('1995-06-06 00:00:00'),\n",
       " Timestamp('1995-06-08 00:00:00'),\n",
       " Timestamp('1995-06-08 00:00:00'),\n",
       " Timestamp('1995-06-08 00:00:00'),\n",
       " ...]"
      ]
     },
     "execution_count": 33,
     "metadata": {},
     "output_type": "execute_result"
    }
   ],
   "source": [
    "timestamp"
   ]
  },
  {
   "cell_type": "code",
   "execution_count": 35,
   "metadata": {},
   "outputs": [
    {
     "ename": "TypeError",
     "evalue": "BERTopic.topics_over_time() got multiple values for argument 'nr_bins'",
     "output_type": "error",
     "traceback": [
      "\u001b[1;31m---------------------------------------------------------------------------\u001b[0m",
      "\u001b[1;31mTypeError\u001b[0m                                 Traceback (most recent call last)",
      "Cell \u001b[1;32mIn [35], line 1\u001b[0m\n\u001b[1;32m----> 1\u001b[0m topics_over_time \u001b[39m=\u001b[39m topic_model\u001b[39m.\u001b[39;49mtopics_over_time(bodys, topics, timestamp, nr_bins\u001b[39m=\u001b[39;49m\u001b[39m20\u001b[39;49m)\n",
      "\u001b[1;31mTypeError\u001b[0m: BERTopic.topics_over_time() got multiple values for argument 'nr_bins'"
     ]
    }
   ],
   "source": [
    "topics_over_time = topic_model.topics_over_time(bodys, topics, timestamp, nr_bins=20)"
   ]
  }
 ],
 "metadata": {
  "kernelspec": {
   "display_name": "base",
   "language": "python",
   "name": "python3"
  },
  "language_info": {
   "codemirror_mode": {
    "name": "ipython",
    "version": 3
   },
   "file_extension": ".py",
   "mimetype": "text/x-python",
   "name": "python",
   "nbconvert_exporter": "python",
   "pygments_lexer": "ipython3",
   "version": "3.9.7"
  },
  "orig_nbformat": 4,
  "vscode": {
   "interpreter": {
    "hash": "292f53203ca0307e3f529ce044c975ba8cf5342e4e9bff5455a2c5e70115dd44"
   }
  }
 },
 "nbformat": 4,
 "nbformat_minor": 2
}
